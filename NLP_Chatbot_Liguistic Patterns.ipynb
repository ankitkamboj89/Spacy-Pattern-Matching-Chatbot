{
 "cells": [
  {
   "cell_type": "markdown",
   "id": "a26892a8-84d4-4ffc-82cf-ba8b24bde956",
   "metadata": {},
   "source": [
    "# CITS4012 Project 1 (Sem1 2022)\n",
    "# Ankit Kamboj\n",
    "# 23372936"
   ]
  },
  {
   "cell_type": "markdown",
   "id": "a109ea13-f559-4211-a389-fc8c1b35cce5",
   "metadata": {},
   "source": [
    "#### To run the chatbot, run all cells in the jupyter notebook. The last cell activates the chatbot. Once the last cell is active, then send message via telegram /start\n",
    "\n",
    "#### Chatbotname: SeekDoge"
   ]
  },
  {
   "cell_type": "markdown",
   "id": "d1d37d64",
   "metadata": {
    "tags": []
   },
   "source": [
    "# 1.0 Data Exploration"
   ]
  },
  {
   "cell_type": "markdown",
   "id": "e195b03e",
   "metadata": {
    "tags": []
   },
   "source": [
    "## 1.1 Frequency of job categories by city"
   ]
  },
  {
   "cell_type": "code",
   "execution_count": 104,
   "id": "e8465fd0",
   "metadata": {},
   "outputs": [],
   "source": [
    "import pandas as pd\n",
    "import warnings\n",
    "warnings.filterwarnings(\"ignore\")\n",
    "import matplotlib.pyplot as plt\n",
    "import numpy as np\n",
    "import nltk\n",
    "import spacy\n",
    "from spacy.tokens import DocBin\n",
    "from spacy import displacy\n",
    "from nltk.stem.porter import *\n",
    "from spacy.matcher import Matcher\n",
    "from spacy.matcher import DependencyMatcher\n",
    "from spacy.matcher import PhraseMatcher\n",
    "from spacy import load\n",
    "import numerizer\n",
    "import re\n",
    "import swifter\n",
    "import pickle\n",
    "import telegram\n",
    "from telegram.ext import Updater, MessageHandler, Filters\n",
    "import time\n",
    "from telegram import Update\n",
    "from telegram.ext import (\n",
    "    Updater,\n",
    "    CommandHandler,\n",
    "    MessageHandler,\n",
    "    Filters,\n",
    "    CallbackContext,\n",
    ")\n"
   ]
  },
  {
   "cell_type": "code",
   "execution_count": 105,
   "id": "341ec366",
   "metadata": {},
   "outputs": [],
   "source": [
    "data = pd.read_csv('seek_australia.csv')"
   ]
  },
  {
   "cell_type": "code",
   "execution_count": 106,
   "id": "b7721fe1",
   "metadata": {},
   "outputs": [
    {
     "data": {
      "text/html": [
       "<div>\n",
       "<style scoped>\n",
       "    .dataframe tbody tr th:only-of-type {\n",
       "        vertical-align: middle;\n",
       "    }\n",
       "\n",
       "    .dataframe tbody tr th {\n",
       "        vertical-align: top;\n",
       "    }\n",
       "\n",
       "    .dataframe thead th {\n",
       "        text-align: right;\n",
       "    }\n",
       "</style>\n",
       "<table border=\"1\" class=\"dataframe\">\n",
       "  <thead>\n",
       "    <tr style=\"text-align: right;\">\n",
       "      <th></th>\n",
       "      <th>category</th>\n",
       "      <th>city</th>\n",
       "      <th>company_name</th>\n",
       "      <th>geo</th>\n",
       "      <th>job_board</th>\n",
       "      <th>job_description</th>\n",
       "      <th>job_title</th>\n",
       "      <th>job_type</th>\n",
       "      <th>post_date</th>\n",
       "      <th>salary_offered</th>\n",
       "      <th>state</th>\n",
       "      <th>url</th>\n",
       "    </tr>\n",
       "  </thead>\n",
       "  <tbody>\n",
       "    <tr>\n",
       "      <th>0</th>\n",
       "      <td>Retail &amp; Consumer Products</td>\n",
       "      <td>Sydney</td>\n",
       "      <td>Frontline Executive Retail Sydney</td>\n",
       "      <td>AU</td>\n",
       "      <td>seek</td>\n",
       "      <td>Have you had 10 years experience in fresh pro...</td>\n",
       "      <td>Store Manager - Fresh Produce</td>\n",
       "      <td>Full Time</td>\n",
       "      <td>2018-04-15T23:13:45Z</td>\n",
       "      <td>$100k Base + Super + Benefits</td>\n",
       "      <td>North Shore &amp; Northern Beaches</td>\n",
       "      <td>https://www.seek.com.au/job/35989382</td>\n",
       "    </tr>\n",
       "    <tr>\n",
       "      <th>1</th>\n",
       "      <td>Government &amp; Defence</td>\n",
       "      <td>Brisbane</td>\n",
       "      <td>Powerlink</td>\n",
       "      <td>AU</td>\n",
       "      <td>seek</td>\n",
       "      <td>The Opportunity: The Client Solution Analyst ...</td>\n",
       "      <td>Client Solution Analyst</td>\n",
       "      <td>Full Time</td>\n",
       "      <td>2018-04-15T23:04:40Z</td>\n",
       "      <td>Excellent remuneration packages</td>\n",
       "      <td>Northern Suburbs</td>\n",
       "      <td>https://www.seek.com.au/job/35989272</td>\n",
       "    </tr>\n",
       "  </tbody>\n",
       "</table>\n",
       "</div>"
      ],
      "text/plain": [
       "                     category      city                       company_name  \\\n",
       "0  Retail & Consumer Products    Sydney  Frontline Executive Retail Sydney   \n",
       "1        Government & Defence  Brisbane                          Powerlink   \n",
       "\n",
       "  geo job_board                                    job_description  \\\n",
       "0  AU      seek   Have you had 10 years experience in fresh pro...   \n",
       "1  AU      seek   The Opportunity: The Client Solution Analyst ...   \n",
       "\n",
       "                       job_title   job_type             post_date  \\\n",
       "0  Store Manager - Fresh Produce  Full Time  2018-04-15T23:13:45Z   \n",
       "1        Client Solution Analyst  Full Time  2018-04-15T23:04:40Z   \n",
       "\n",
       "                    salary_offered                           state  \\\n",
       "0    $100k Base + Super + Benefits  North Shore & Northern Beaches   \n",
       "1  Excellent remuneration packages                Northern Suburbs   \n",
       "\n",
       "                                    url  \n",
       "0  https://www.seek.com.au/job/35989382  \n",
       "1  https://www.seek.com.au/job/35989272  "
      ]
     },
     "execution_count": 106,
     "metadata": {},
     "output_type": "execute_result"
    }
   ],
   "source": [
    "data.head(2)"
   ]
  },
  {
   "cell_type": "code",
   "execution_count": 107,
   "id": "eebd7181",
   "metadata": {},
   "outputs": [
    {
     "data": {
      "text/html": [
       "<div>\n",
       "<style scoped>\n",
       "    .dataframe tbody tr th:only-of-type {\n",
       "        vertical-align: middle;\n",
       "    }\n",
       "\n",
       "    .dataframe tbody tr th {\n",
       "        vertical-align: top;\n",
       "    }\n",
       "\n",
       "    .dataframe thead th {\n",
       "        text-align: right;\n",
       "    }\n",
       "</style>\n",
       "<table border=\"1\" class=\"dataframe\">\n",
       "  <thead>\n",
       "    <tr style=\"text-align: right;\">\n",
       "      <th></th>\n",
       "      <th>category</th>\n",
       "      <th>city</th>\n",
       "    </tr>\n",
       "  </thead>\n",
       "  <tbody>\n",
       "    <tr>\n",
       "      <th>0</th>\n",
       "      <td>Retail &amp; Consumer Products</td>\n",
       "      <td>Sydney</td>\n",
       "    </tr>\n",
       "    <tr>\n",
       "      <th>1</th>\n",
       "      <td>Government &amp; Defence</td>\n",
       "      <td>Brisbane</td>\n",
       "    </tr>\n",
       "    <tr>\n",
       "      <th>2</th>\n",
       "      <td>Trades &amp; Services</td>\n",
       "      <td>Sydney</td>\n",
       "    </tr>\n",
       "    <tr>\n",
       "      <th>3</th>\n",
       "      <td>Trades &amp; Services</td>\n",
       "      <td>Melbourne</td>\n",
       "    </tr>\n",
       "    <tr>\n",
       "      <th>4</th>\n",
       "      <td>Trades &amp; Services</td>\n",
       "      <td>Adelaide</td>\n",
       "    </tr>\n",
       "    <tr>\n",
       "      <th>...</th>\n",
       "      <td>...</td>\n",
       "      <td>...</td>\n",
       "    </tr>\n",
       "    <tr>\n",
       "      <th>29995</th>\n",
       "      <td>Hospitality &amp; Tourism</td>\n",
       "      <td>Sydney</td>\n",
       "    </tr>\n",
       "    <tr>\n",
       "      <th>29996</th>\n",
       "      <td>CEO &amp; General Management</td>\n",
       "      <td>ACT</td>\n",
       "    </tr>\n",
       "    <tr>\n",
       "      <th>29997</th>\n",
       "      <td>Accounting</td>\n",
       "      <td>Melbourne</td>\n",
       "    </tr>\n",
       "    <tr>\n",
       "      <th>29998</th>\n",
       "      <td>Government &amp; Defence</td>\n",
       "      <td>ACT</td>\n",
       "    </tr>\n",
       "    <tr>\n",
       "      <th>29999</th>\n",
       "      <td>Government &amp; Defence</td>\n",
       "      <td>Dubbo &amp; Central NSW</td>\n",
       "    </tr>\n",
       "  </tbody>\n",
       "</table>\n",
       "<p>30000 rows × 2 columns</p>\n",
       "</div>"
      ],
      "text/plain": [
       "                         category                 city\n",
       "0      Retail & Consumer Products               Sydney\n",
       "1            Government & Defence             Brisbane\n",
       "2               Trades & Services               Sydney\n",
       "3               Trades & Services            Melbourne\n",
       "4               Trades & Services             Adelaide\n",
       "...                           ...                  ...\n",
       "29995       Hospitality & Tourism               Sydney\n",
       "29996    CEO & General Management                  ACT\n",
       "29997                  Accounting            Melbourne\n",
       "29998        Government & Defence                  ACT\n",
       "29999        Government & Defence  Dubbo & Central NSW\n",
       "\n",
       "[30000 rows x 2 columns]"
      ]
     },
     "execution_count": 107,
     "metadata": {},
     "output_type": "execute_result"
    }
   ],
   "source": [
    "data.loc[:,'category':'city']"
   ]
  },
  {
   "cell_type": "code",
   "execution_count": 108,
   "id": "d6d414a7",
   "metadata": {},
   "outputs": [
    {
     "data": {
      "text/html": [
       "<div>\n",
       "<style scoped>\n",
       "    .dataframe tbody tr th:only-of-type {\n",
       "        vertical-align: middle;\n",
       "    }\n",
       "\n",
       "    .dataframe tbody tr th {\n",
       "        vertical-align: top;\n",
       "    }\n",
       "\n",
       "    .dataframe thead th {\n",
       "        text-align: right;\n",
       "    }\n",
       "</style>\n",
       "<table border=\"1\" class=\"dataframe\">\n",
       "  <thead>\n",
       "    <tr style=\"text-align: right;\">\n",
       "      <th></th>\n",
       "      <th>city</th>\n",
       "      <th>category</th>\n",
       "      <th>num_jobs</th>\n",
       "    </tr>\n",
       "  </thead>\n",
       "  <tbody>\n",
       "    <tr>\n",
       "      <th>0</th>\n",
       "      <td>ACT</td>\n",
       "      <td>Information &amp; Communication Technology</td>\n",
       "      <td>196</td>\n",
       "    </tr>\n",
       "    <tr>\n",
       "      <th>1</th>\n",
       "      <td>ACT</td>\n",
       "      <td>Government &amp; Defence</td>\n",
       "      <td>145</td>\n",
       "    </tr>\n",
       "    <tr>\n",
       "      <th>2</th>\n",
       "      <td>ACT</td>\n",
       "      <td>Trades &amp; Services</td>\n",
       "      <td>60</td>\n",
       "    </tr>\n",
       "    <tr>\n",
       "      <th>3</th>\n",
       "      <td>ACT</td>\n",
       "      <td>Administration &amp; Office Support</td>\n",
       "      <td>54</td>\n",
       "    </tr>\n",
       "    <tr>\n",
       "      <th>4</th>\n",
       "      <td>ACT</td>\n",
       "      <td>Healthcare &amp; Medical</td>\n",
       "      <td>51</td>\n",
       "    </tr>\n",
       "    <tr>\n",
       "      <th>...</th>\n",
       "      <td>...</td>\n",
       "      <td>...</td>\n",
       "      <td>...</td>\n",
       "    </tr>\n",
       "    <tr>\n",
       "      <th>1171</th>\n",
       "      <td>Yorke Peninsula &amp; Clare Valley</td>\n",
       "      <td>Engineering</td>\n",
       "      <td>1</td>\n",
       "    </tr>\n",
       "    <tr>\n",
       "      <th>1172</th>\n",
       "      <td>Yorke Peninsula &amp; Clare Valley</td>\n",
       "      <td>Government &amp; Defence</td>\n",
       "      <td>1</td>\n",
       "    </tr>\n",
       "    <tr>\n",
       "      <th>1173</th>\n",
       "      <td>Yorke Peninsula &amp; Clare Valley</td>\n",
       "      <td>Retail &amp; Consumer Products</td>\n",
       "      <td>1</td>\n",
       "    </tr>\n",
       "    <tr>\n",
       "      <th>1174</th>\n",
       "      <td>Yorke Peninsula &amp; Clare Valley</td>\n",
       "      <td>Sales</td>\n",
       "      <td>1</td>\n",
       "    </tr>\n",
       "    <tr>\n",
       "      <th>1175</th>\n",
       "      <td>Yorke Peninsula &amp; Clare Valley</td>\n",
       "      <td>Trades &amp; Services</td>\n",
       "      <td>1</td>\n",
       "    </tr>\n",
       "  </tbody>\n",
       "</table>\n",
       "<p>1176 rows × 3 columns</p>\n",
       "</div>"
      ],
      "text/plain": [
       "                                city                                category  \\\n",
       "0                                ACT  Information & Communication Technology   \n",
       "1                                ACT                    Government & Defence   \n",
       "2                                ACT                       Trades & Services   \n",
       "3                                ACT         Administration & Office Support   \n",
       "4                                ACT                    Healthcare & Medical   \n",
       "...                              ...                                     ...   \n",
       "1171  Yorke Peninsula & Clare Valley                             Engineering   \n",
       "1172  Yorke Peninsula & Clare Valley                    Government & Defence   \n",
       "1173  Yorke Peninsula & Clare Valley              Retail & Consumer Products   \n",
       "1174  Yorke Peninsula & Clare Valley                                   Sales   \n",
       "1175  Yorke Peninsula & Clare Valley                       Trades & Services   \n",
       "\n",
       "      num_jobs  \n",
       "0          196  \n",
       "1          145  \n",
       "2           60  \n",
       "3           54  \n",
       "4           51  \n",
       "...        ...  \n",
       "1171         1  \n",
       "1172         1  \n",
       "1173         1  \n",
       "1174         1  \n",
       "1175         1  \n",
       "\n",
       "[1176 rows x 3 columns]"
      ]
     },
     "execution_count": 108,
     "metadata": {},
     "output_type": "execute_result"
    }
   ],
   "source": [
    "unique_jobcats_by_city = data.loc[:,'category':'city'].groupby(['city', 'category'], as_index=False).size().sort_values(['city', 'size'], ascending=[True, False], ignore_index=True)\n",
    "unique_jobcats_by_city.rename(columns={'size':'num_jobs'}, inplace=True)\n",
    "unique_jobcats_by_city"
   ]
  },
  {
   "cell_type": "code",
   "execution_count": 109,
   "id": "3fe6def4",
   "metadata": {},
   "outputs": [
    {
     "data": {
      "text/html": [
       "<div>\n",
       "<style scoped>\n",
       "    .dataframe tbody tr th:only-of-type {\n",
       "        vertical-align: middle;\n",
       "    }\n",
       "\n",
       "    .dataframe tbody tr th {\n",
       "        vertical-align: top;\n",
       "    }\n",
       "\n",
       "    .dataframe thead th {\n",
       "        text-align: right;\n",
       "    }\n",
       "</style>\n",
       "<table border=\"1\" class=\"dataframe\">\n",
       "  <thead>\n",
       "    <tr style=\"text-align: right;\">\n",
       "      <th></th>\n",
       "      <th>city</th>\n",
       "      <th>category</th>\n",
       "      <th>num_jobs</th>\n",
       "    </tr>\n",
       "  </thead>\n",
       "  <tbody>\n",
       "    <tr>\n",
       "      <th>0</th>\n",
       "      <td>Sydney</td>\n",
       "      <td>Information &amp; Communication Technology</td>\n",
       "      <td>1243</td>\n",
       "    </tr>\n",
       "    <tr>\n",
       "      <th>1</th>\n",
       "      <td>Melbourne</td>\n",
       "      <td>Trades &amp; Services</td>\n",
       "      <td>810</td>\n",
       "    </tr>\n",
       "    <tr>\n",
       "      <th>2</th>\n",
       "      <td>Melbourne</td>\n",
       "      <td>Information &amp; Communication Technology</td>\n",
       "      <td>746</td>\n",
       "    </tr>\n",
       "    <tr>\n",
       "      <th>3</th>\n",
       "      <td>Sydney</td>\n",
       "      <td>Trades &amp; Services</td>\n",
       "      <td>719</td>\n",
       "    </tr>\n",
       "    <tr>\n",
       "      <th>4</th>\n",
       "      <td>Sydney</td>\n",
       "      <td>Manufacturing, Transport &amp; Logistics</td>\n",
       "      <td>698</td>\n",
       "    </tr>\n",
       "    <tr>\n",
       "      <th>...</th>\n",
       "      <td>...</td>\n",
       "      <td>...</td>\n",
       "      <td>...</td>\n",
       "    </tr>\n",
       "    <tr>\n",
       "      <th>1171</th>\n",
       "      <td>Hervey Bay &amp; Fraser Coast</td>\n",
       "      <td>Accounting</td>\n",
       "      <td>1</td>\n",
       "    </tr>\n",
       "    <tr>\n",
       "      <th>1172</th>\n",
       "      <td>Somerset &amp; Lockyer</td>\n",
       "      <td>Retail &amp; Consumer Products</td>\n",
       "      <td>1</td>\n",
       "    </tr>\n",
       "    <tr>\n",
       "      <th>1173</th>\n",
       "      <td>Somerset &amp; Lockyer</td>\n",
       "      <td>Government &amp; Defence</td>\n",
       "      <td>1</td>\n",
       "    </tr>\n",
       "    <tr>\n",
       "      <th>1174</th>\n",
       "      <td>Somerset &amp; Lockyer</td>\n",
       "      <td>Accounting</td>\n",
       "      <td>1</td>\n",
       "    </tr>\n",
       "    <tr>\n",
       "      <th>1175</th>\n",
       "      <td>Yorke Peninsula &amp; Clare Valley</td>\n",
       "      <td>Trades &amp; Services</td>\n",
       "      <td>1</td>\n",
       "    </tr>\n",
       "  </tbody>\n",
       "</table>\n",
       "<p>1176 rows × 3 columns</p>\n",
       "</div>"
      ],
      "text/plain": [
       "                                city                                category  \\\n",
       "0                             Sydney  Information & Communication Technology   \n",
       "1                          Melbourne                       Trades & Services   \n",
       "2                          Melbourne  Information & Communication Technology   \n",
       "3                             Sydney                       Trades & Services   \n",
       "4                             Sydney    Manufacturing, Transport & Logistics   \n",
       "...                              ...                                     ...   \n",
       "1171       Hervey Bay & Fraser Coast                              Accounting   \n",
       "1172              Somerset & Lockyer              Retail & Consumer Products   \n",
       "1173              Somerset & Lockyer                    Government & Defence   \n",
       "1174              Somerset & Lockyer                              Accounting   \n",
       "1175  Yorke Peninsula & Clare Valley                       Trades & Services   \n",
       "\n",
       "      num_jobs  \n",
       "0         1243  \n",
       "1          810  \n",
       "2          746  \n",
       "3          719  \n",
       "4          698  \n",
       "...        ...  \n",
       "1171         1  \n",
       "1172         1  \n",
       "1173         1  \n",
       "1174         1  \n",
       "1175         1  \n",
       "\n",
       "[1176 rows x 3 columns]"
      ]
     },
     "execution_count": 109,
     "metadata": {},
     "output_type": "execute_result"
    }
   ],
   "source": [
    "# Top job categories by city\n",
    "\n",
    "top_jobcats = unique_jobcats_by_city.sort_values(['num_jobs'], ascending=[False], ignore_index=True).groupby(['city']).apply(lambda x:x)\n",
    "top_jobcats"
   ]
  },
  {
   "cell_type": "code",
   "execution_count": 110,
   "id": "a0ffcbe0",
   "metadata": {},
   "outputs": [
    {
     "data": {
      "text/html": [
       "<div>\n",
       "<style scoped>\n",
       "    .dataframe tbody tr th:only-of-type {\n",
       "        vertical-align: middle;\n",
       "    }\n",
       "\n",
       "    .dataframe tbody tr th {\n",
       "        vertical-align: top;\n",
       "    }\n",
       "\n",
       "    .dataframe thead th {\n",
       "        text-align: right;\n",
       "    }\n",
       "</style>\n",
       "<table border=\"1\" class=\"dataframe\">\n",
       "  <thead>\n",
       "    <tr style=\"text-align: right;\">\n",
       "      <th></th>\n",
       "      <th>city</th>\n",
       "      <th>cumnum_jobs</th>\n",
       "    </tr>\n",
       "  </thead>\n",
       "  <tbody>\n",
       "    <tr>\n",
       "      <th>0</th>\n",
       "      <td>Sydney</td>\n",
       "      <td>9412</td>\n",
       "    </tr>\n",
       "    <tr>\n",
       "      <th>1</th>\n",
       "      <td>Melbourne</td>\n",
       "      <td>7361</td>\n",
       "    </tr>\n",
       "    <tr>\n",
       "      <th>2</th>\n",
       "      <td>Brisbane</td>\n",
       "      <td>2951</td>\n",
       "    </tr>\n",
       "    <tr>\n",
       "      <th>3</th>\n",
       "      <td>Perth</td>\n",
       "      <td>2026</td>\n",
       "    </tr>\n",
       "    <tr>\n",
       "      <th>4</th>\n",
       "      <td>Adelaide</td>\n",
       "      <td>1195</td>\n",
       "    </tr>\n",
       "  </tbody>\n",
       "</table>\n",
       "</div>"
      ],
      "text/plain": [
       "        city  cumnum_jobs\n",
       "0     Sydney         9412\n",
       "1  Melbourne         7361\n",
       "2   Brisbane         2951\n",
       "3      Perth         2026\n",
       "4   Adelaide         1195"
      ]
     },
     "execution_count": 110,
     "metadata": {},
     "output_type": "execute_result"
    }
   ],
   "source": [
    "# Top 5 cities with the most jobs\n",
    "\n",
    "top_jobcats['cumnum_jobs'] = top_jobcats.groupby(['city'])['num_jobs'].apply(lambda x: x.cumsum())\n",
    "cities_with_most_jobs = top_jobcats[top_jobcats.columns.drop(['num_jobs','category'])].sort_values('cumnum_jobs', ascending=False).drop_duplicates(subset='city', keep='first', ignore_index=True)\n",
    "cities_with_most_jobs.head(5)"
   ]
  },
  {
   "cell_type": "code",
   "execution_count": 111,
   "id": "c442e359",
   "metadata": {},
   "outputs": [
    {
     "data": {
      "text/plain": [
       "['Sydney', 'Melbourne', 'Brisbane', 'Perth', 'Adelaide']"
      ]
     },
     "execution_count": 111,
     "metadata": {},
     "output_type": "execute_result"
    }
   ],
   "source": [
    "# Top 5 cities with the most jobs as a list\n",
    "\n",
    "top5cities_most_jobs = list(cities_with_most_jobs.head(5)['city'])\n",
    "top5cities_most_jobs"
   ]
  },
  {
   "cell_type": "code",
   "execution_count": 112,
   "id": "93d3a9b4",
   "metadata": {},
   "outputs": [],
   "source": [
    "# Get data of the top 5 cities with most jobs\n",
    "\n",
    "top5cities_data = top_jobcats[np.isin(top_jobcats['city'].to_numpy(), top5cities_most_jobs)].reset_index(drop=True)[['city', 'category', 'num_jobs']]"
   ]
  },
  {
   "cell_type": "code",
   "execution_count": 113,
   "id": "dfa77e5e",
   "metadata": {},
   "outputs": [
    {
     "data": {
      "text/html": [
       "<div>\n",
       "<style scoped>\n",
       "    .dataframe tbody tr th:only-of-type {\n",
       "        vertical-align: middle;\n",
       "    }\n",
       "\n",
       "    .dataframe tbody tr th {\n",
       "        vertical-align: top;\n",
       "    }\n",
       "\n",
       "    .dataframe thead th {\n",
       "        text-align: right;\n",
       "    }\n",
       "</style>\n",
       "<table border=\"1\" class=\"dataframe\">\n",
       "  <thead>\n",
       "    <tr style=\"text-align: right;\">\n",
       "      <th></th>\n",
       "      <th>city</th>\n",
       "      <th>category</th>\n",
       "      <th>num_jobs</th>\n",
       "    </tr>\n",
       "  </thead>\n",
       "  <tbody>\n",
       "    <tr>\n",
       "      <th>0</th>\n",
       "      <td>Sydney</td>\n",
       "      <td>Information &amp; Communication Technology</td>\n",
       "      <td>1243</td>\n",
       "    </tr>\n",
       "    <tr>\n",
       "      <th>1</th>\n",
       "      <td>Melbourne</td>\n",
       "      <td>Trades &amp; Services</td>\n",
       "      <td>810</td>\n",
       "    </tr>\n",
       "    <tr>\n",
       "      <th>2</th>\n",
       "      <td>Melbourne</td>\n",
       "      <td>Information &amp; Communication Technology</td>\n",
       "      <td>746</td>\n",
       "    </tr>\n",
       "    <tr>\n",
       "      <th>3</th>\n",
       "      <td>Sydney</td>\n",
       "      <td>Trades &amp; Services</td>\n",
       "      <td>719</td>\n",
       "    </tr>\n",
       "    <tr>\n",
       "      <th>4</th>\n",
       "      <td>Sydney</td>\n",
       "      <td>Manufacturing, Transport &amp; Logistics</td>\n",
       "      <td>698</td>\n",
       "    </tr>\n",
       "    <tr>\n",
       "      <th>...</th>\n",
       "      <td>...</td>\n",
       "      <td>...</td>\n",
       "      <td>...</td>\n",
       "    </tr>\n",
       "    <tr>\n",
       "      <th>144</th>\n",
       "      <td>Perth</td>\n",
       "      <td>Farming, Animals &amp; Conservation</td>\n",
       "      <td>3</td>\n",
       "    </tr>\n",
       "    <tr>\n",
       "      <th>145</th>\n",
       "      <td>Adelaide</td>\n",
       "      <td>Farming, Animals &amp; Conservation</td>\n",
       "      <td>3</td>\n",
       "    </tr>\n",
       "    <tr>\n",
       "      <th>146</th>\n",
       "      <td>Perth</td>\n",
       "      <td>Self Employment</td>\n",
       "      <td>2</td>\n",
       "    </tr>\n",
       "    <tr>\n",
       "      <th>147</th>\n",
       "      <td>Brisbane</td>\n",
       "      <td>Self Employment</td>\n",
       "      <td>1</td>\n",
       "    </tr>\n",
       "    <tr>\n",
       "      <th>148</th>\n",
       "      <td>Adelaide</td>\n",
       "      <td>Design &amp; Architecture</td>\n",
       "      <td>1</td>\n",
       "    </tr>\n",
       "  </tbody>\n",
       "</table>\n",
       "<p>149 rows × 3 columns</p>\n",
       "</div>"
      ],
      "text/plain": [
       "          city                                category  num_jobs\n",
       "0       Sydney  Information & Communication Technology      1243\n",
       "1    Melbourne                       Trades & Services       810\n",
       "2    Melbourne  Information & Communication Technology       746\n",
       "3       Sydney                       Trades & Services       719\n",
       "4       Sydney    Manufacturing, Transport & Logistics       698\n",
       "..         ...                                     ...       ...\n",
       "144      Perth         Farming, Animals & Conservation         3\n",
       "145   Adelaide         Farming, Animals & Conservation         3\n",
       "146      Perth                         Self Employment         2\n",
       "147   Brisbane                         Self Employment         1\n",
       "148   Adelaide                   Design & Architecture         1\n",
       "\n",
       "[149 rows x 3 columns]"
      ]
     },
     "execution_count": 113,
     "metadata": {},
     "output_type": "execute_result"
    }
   ],
   "source": [
    "top5cities_data"
   ]
  },
  {
   "cell_type": "code",
   "execution_count": 114,
   "id": "23e5ca90",
   "metadata": {},
   "outputs": [
    {
     "data": {
      "image/png": "[encoded data removed]",
      "text/plain": [
       "<Figure size 432x432 with 1 Axes>"
      ]
     },
     "metadata": {
      "needs_background": "light"
     },
     "output_type": "display_data"
    },
    {
     "data": {
      "image/png": "[encoded data removed]",
      "text/plain": [
       "<Figure size 432x432 with 1 Axes>"
      ]
     },
     "metadata": {
      "needs_background": "light"
     },
     "output_type": "display_data"
    },
    {
     "data": {
      "image/png": "[encoded data removed]",
      "text/plain": [
       "<Figure size 432x432 with 1 Axes>"
      ]
     },
     "metadata": {
      "needs_background": "light"
     },
     "output_type": "display_data"
    },
    {
     "data": {
      "image/png": "[encoded data removed]",
      "text/plain": [
       "<Figure size 432x432 with 1 Axes>"
      ]
     },
     "metadata": {
      "needs_background": "light"
     },
     "output_type": "display_data"
    },
    {
     "data": {
      "image/png": "[encoded data removed]",
      "text/plain": [
       "<Figure size 432x432 with 1 Axes>"
      ]
     },
     "metadata": {
      "needs_background": "light"
     },
     "output_type": "display_data"
    }
   ],
   "source": [
    "addMainTitle = True\n",
    "for title, group in top5cities_data.groupby('city'):\n",
    "    ax = group.plot.barh(x='category', figsize=(6,6), subplots=False, legend=False, xlabel='job category', title=title)\n",
    "    ax.invert_yaxis() # to show y-axis in descending order\n",
    "    if(addMainTitle==True): # to show the main title above first figure only\n",
    "        plt.suptitle('Frequency of job categories advertised in the top 5 cities with most jobs', fontsize=16)\n",
    "        addMainTitle = False\n",
    "    \n"
   ]
  },
  {
   "cell_type": "markdown",
   "id": "742d13e9-9c75-4ff5-b6a1-066767f8d750",
   "metadata": {
    "tags": []
   },
   "source": [
    "## 1.2 Vocabulary of each category"
   ]
  },
  {
   "cell_type": "code",
   "execution_count": 115,
   "id": "446c9636-14bb-4d0d-a978-5b0d2a8796a0",
   "metadata": {},
   "outputs": [
    {
     "name": "stdout",
     "output_type": "stream",
     "text": [
      "There are 30 unique job categories:\n",
      "\n",
      "{'CEO & General Management', 'Sales', 'Human Resources & Recruitment', 'Advertising, Arts & Media', 'Government & Defence', 'Trades & Services', 'Construction', 'Administration & Office Support', 'Call Centre & Customer Service', 'Education & Training', 'Science & Technology', 'Community Services & Development', 'Farming, Animals & Conservation', 'Manufacturing, Transport & Logistics', 'Real Estate & Property', 'Marketing & Communications', 'Healthcare & Medical', 'Mining, Resources & Energy', 'Design & Architecture', 'Insurance & Superannuation', 'Self Employment', 'Sport & Recreation', 'Information & Communication Technology', 'Hospitality & Tourism', 'Engineering', 'Retail & Consumer Products', 'Legal', 'Accounting', 'Banking & Financial Services', 'Consulting & Strategy'}\n"
     ]
    },
    {
     "data": {
      "text/html": [
       "<div>\n",
       "<style scoped>\n",
       "    .dataframe tbody tr th:only-of-type {\n",
       "        vertical-align: middle;\n",
       "    }\n",
       "\n",
       "    .dataframe tbody tr th {\n",
       "        vertical-align: top;\n",
       "    }\n",
       "\n",
       "    .dataframe thead th {\n",
       "        text-align: right;\n",
       "    }\n",
       "</style>\n",
       "<table border=\"1\" class=\"dataframe\">\n",
       "  <thead>\n",
       "    <tr style=\"text-align: right;\">\n",
       "      <th></th>\n",
       "      <th>category</th>\n",
       "      <th>job_description</th>\n",
       "    </tr>\n",
       "  </thead>\n",
       "  <tbody>\n",
       "    <tr>\n",
       "      <th>0</th>\n",
       "      <td>Retail &amp; Consumer Products</td>\n",
       "      <td>Have you had 10 years experience in fresh pro...</td>\n",
       "    </tr>\n",
       "    <tr>\n",
       "      <th>1</th>\n",
       "      <td>Government &amp; Defence</td>\n",
       "      <td>The Opportunity: The Client Solution Analyst ...</td>\n",
       "    </tr>\n",
       "    <tr>\n",
       "      <th>2</th>\n",
       "      <td>Trades &amp; Services</td>\n",
       "      <td>An innovative business development role for a...</td>\n",
       "    </tr>\n",
       "    <tr>\n",
       "      <th>3</th>\n",
       "      <td>Trades &amp; Services</td>\n",
       "      <td>About the role: We are seeking an Automotive W...</td>\n",
       "    </tr>\n",
       "    <tr>\n",
       "      <th>4</th>\n",
       "      <td>Trades &amp; Services</td>\n",
       "      <td>Â Early starts and weekend shifts. No experie...</td>\n",
       "    </tr>\n",
       "    <tr>\n",
       "      <th>...</th>\n",
       "      <td>...</td>\n",
       "      <td>...</td>\n",
       "    </tr>\n",
       "    <tr>\n",
       "      <th>27937</th>\n",
       "      <td>Hospitality &amp; Tourism</td>\n",
       "      <td>Hotel snapshot The Radisson Blu Plaza Sydney ...</td>\n",
       "    </tr>\n",
       "    <tr>\n",
       "      <th>27938</th>\n",
       "      <td>CEO &amp; General Management</td>\n",
       "      <td>The Organisation Airservices is a government ...</td>\n",
       "    </tr>\n",
       "    <tr>\n",
       "      <th>27939</th>\n",
       "      <td>Accounting</td>\n",
       "      <td>ABOUT THE COMPANY AND ROLE Our client is one o...</td>\n",
       "    </tr>\n",
       "    <tr>\n",
       "      <th>27940</th>\n",
       "      <td>Government &amp; Defence</td>\n",
       "      <td>Long term contract for 12 months with possibl...</td>\n",
       "    </tr>\n",
       "    <tr>\n",
       "      <th>27941</th>\n",
       "      <td>Government &amp; Defence</td>\n",
       "      <td>Customer Service Representative - (West Wyalo...</td>\n",
       "    </tr>\n",
       "  </tbody>\n",
       "</table>\n",
       "<p>27942 rows × 2 columns</p>\n",
       "</div>"
      ],
      "text/plain": [
       "                         category  \\\n",
       "0      Retail & Consumer Products   \n",
       "1            Government & Defence   \n",
       "2               Trades & Services   \n",
       "3               Trades & Services   \n",
       "4               Trades & Services   \n",
       "...                           ...   \n",
       "27937       Hospitality & Tourism   \n",
       "27938    CEO & General Management   \n",
       "27939                  Accounting   \n",
       "27940        Government & Defence   \n",
       "27941        Government & Defence   \n",
       "\n",
       "                                         job_description  \n",
       "0       Have you had 10 years experience in fresh pro...  \n",
       "1       The Opportunity: The Client Solution Analyst ...  \n",
       "2       An innovative business development role for a...  \n",
       "3      About the role: We are seeking an Automotive W...  \n",
       "4       Â Early starts and weekend shifts. No experie...  \n",
       "...                                                  ...  \n",
       "27937   Hotel snapshot The Radisson Blu Plaza Sydney ...  \n",
       "27938   The Organisation Airservices is a government ...  \n",
       "27939  ABOUT THE COMPANY AND ROLE Our client is one o...  \n",
       "27940   Long term contract for 12 months with possibl...  \n",
       "27941   Customer Service Representative - (West Wyalo...  \n",
       "\n",
       "[27942 rows x 2 columns]"
      ]
     },
     "execution_count": 115,
     "metadata": {},
     "output_type": "execute_result"
    }
   ],
   "source": [
    "job_cats_and_desc_df = data[['category','job_description']].drop_duplicates(ignore_index=True)\n",
    "job_cats_unique_list = set(job_cats_and_desc_df['category'].tolist())\n",
    "print(f\"There are {len(job_cats_unique_list)} unique job categories:\\n\")\n",
    "print(job_cats_unique_list)\n",
    "job_cats_and_desc_df"
   ]
  },
  {
   "cell_type": "code",
   "execution_count": 116,
   "id": "5838143f-931e-4518-82c4-f503542eecc1",
   "metadata": {},
   "outputs": [
    {
     "name": "stdout",
     "output_type": "stream",
     "text": [
      "Vocabulary of each job category: \n",
      "\n"
     ]
    },
    {
     "data": {
      "text/html": [
       "<div>\n",
       "<style scoped>\n",
       "    .dataframe tbody tr th:only-of-type {\n",
       "        vertical-align: middle;\n",
       "    }\n",
       "\n",
       "    .dataframe tbody tr th {\n",
       "        vertical-align: top;\n",
       "    }\n",
       "\n",
       "    .dataframe thead th {\n",
       "        text-align: right;\n",
       "    }\n",
       "</style>\n",
       "<table border=\"1\" class=\"dataframe\">\n",
       "  <thead>\n",
       "    <tr style=\"text-align: right;\">\n",
       "      <th></th>\n",
       "      <th>category</th>\n",
       "      <th>job_description</th>\n",
       "      <th>tokenized_cat</th>\n",
       "      <th>vocab_size</th>\n",
       "    </tr>\n",
       "  </thead>\n",
       "  <tbody>\n",
       "    <tr>\n",
       "      <th>0</th>\n",
       "      <td>Retail &amp; Consumer Products</td>\n",
       "      <td>Have you had 10 years experience in fresh pro...</td>\n",
       "      <td>[Retail, Consumer, Products]</td>\n",
       "      <td>3</td>\n",
       "    </tr>\n",
       "    <tr>\n",
       "      <th>1</th>\n",
       "      <td>Government &amp; Defence</td>\n",
       "      <td>The Opportunity: The Client Solution Analyst ...</td>\n",
       "      <td>[Government, Defence]</td>\n",
       "      <td>2</td>\n",
       "    </tr>\n",
       "    <tr>\n",
       "      <th>2</th>\n",
       "      <td>Trades &amp; Services</td>\n",
       "      <td>An innovative business development role for a...</td>\n",
       "      <td>[Trades, Services]</td>\n",
       "      <td>2</td>\n",
       "    </tr>\n",
       "    <tr>\n",
       "      <th>3</th>\n",
       "      <td>Trades &amp; Services</td>\n",
       "      <td>About the role: We are seeking an Automotive W...</td>\n",
       "      <td>[Trades, Services]</td>\n",
       "      <td>2</td>\n",
       "    </tr>\n",
       "    <tr>\n",
       "      <th>4</th>\n",
       "      <td>Trades &amp; Services</td>\n",
       "      <td>Â Early starts and weekend shifts. No experie...</td>\n",
       "      <td>[Trades, Services]</td>\n",
       "      <td>2</td>\n",
       "    </tr>\n",
       "    <tr>\n",
       "      <th>...</th>\n",
       "      <td>...</td>\n",
       "      <td>...</td>\n",
       "      <td>...</td>\n",
       "      <td>...</td>\n",
       "    </tr>\n",
       "    <tr>\n",
       "      <th>27937</th>\n",
       "      <td>Hospitality &amp; Tourism</td>\n",
       "      <td>Hotel snapshot The Radisson Blu Plaza Sydney ...</td>\n",
       "      <td>[Hospitality, Tourism]</td>\n",
       "      <td>2</td>\n",
       "    </tr>\n",
       "    <tr>\n",
       "      <th>27938</th>\n",
       "      <td>CEO &amp; General Management</td>\n",
       "      <td>The Organisation Airservices is a government ...</td>\n",
       "      <td>[CEO, General, Management]</td>\n",
       "      <td>3</td>\n",
       "    </tr>\n",
       "    <tr>\n",
       "      <th>27939</th>\n",
       "      <td>Accounting</td>\n",
       "      <td>ABOUT THE COMPANY AND ROLE Our client is one o...</td>\n",
       "      <td>[Accounting]</td>\n",
       "      <td>1</td>\n",
       "    </tr>\n",
       "    <tr>\n",
       "      <th>27940</th>\n",
       "      <td>Government &amp; Defence</td>\n",
       "      <td>Long term contract for 12 months with possibl...</td>\n",
       "      <td>[Government, Defence]</td>\n",
       "      <td>2</td>\n",
       "    </tr>\n",
       "    <tr>\n",
       "      <th>27941</th>\n",
       "      <td>Government &amp; Defence</td>\n",
       "      <td>Customer Service Representative - (West Wyalo...</td>\n",
       "      <td>[Government, Defence]</td>\n",
       "      <td>2</td>\n",
       "    </tr>\n",
       "  </tbody>\n",
       "</table>\n",
       "<p>27942 rows × 4 columns</p>\n",
       "</div>"
      ],
      "text/plain": [
       "                         category  \\\n",
       "0      Retail & Consumer Products   \n",
       "1            Government & Defence   \n",
       "2               Trades & Services   \n",
       "3               Trades & Services   \n",
       "4               Trades & Services   \n",
       "...                           ...   \n",
       "27937       Hospitality & Tourism   \n",
       "27938    CEO & General Management   \n",
       "27939                  Accounting   \n",
       "27940        Government & Defence   \n",
       "27941        Government & Defence   \n",
       "\n",
       "                                         job_description  \\\n",
       "0       Have you had 10 years experience in fresh pro...   \n",
       "1       The Opportunity: The Client Solution Analyst ...   \n",
       "2       An innovative business development role for a...   \n",
       "3      About the role: We are seeking an Automotive W...   \n",
       "4       Â Early starts and weekend shifts. No experie...   \n",
       "...                                                  ...   \n",
       "27937   Hotel snapshot The Radisson Blu Plaza Sydney ...   \n",
       "27938   The Organisation Airservices is a government ...   \n",
       "27939  ABOUT THE COMPANY AND ROLE Our client is one o...   \n",
       "27940   Long term contract for 12 months with possibl...   \n",
       "27941   Customer Service Representative - (West Wyalo...   \n",
       "\n",
       "                      tokenized_cat  vocab_size  \n",
       "0      [Retail, Consumer, Products]           3  \n",
       "1             [Government, Defence]           2  \n",
       "2                [Trades, Services]           2  \n",
       "3                [Trades, Services]           2  \n",
       "4                [Trades, Services]           2  \n",
       "...                             ...         ...  \n",
       "27937        [Hospitality, Tourism]           2  \n",
       "27938    [CEO, General, Management]           3  \n",
       "27939                  [Accounting]           1  \n",
       "27940         [Government, Defence]           2  \n",
       "27941         [Government, Defence]           2  \n",
       "\n",
       "[27942 rows x 4 columns]"
      ]
     },
     "execution_count": 116,
     "metadata": {},
     "output_type": "execute_result"
    }
   ],
   "source": [
    "job_cats_and_desc_df['tokenized_cat'] = job_cats_and_desc_df.category.apply(lambda x: nltk.RegexpTokenizer(r'\\w+').tokenize(x))\n",
    "job_cats_and_desc_df['vocab_size'] = job_cats_and_desc_df.tokenized_cat.apply(lambda x: len(x))\n",
    "\n",
    "print(\"Vocabulary of each job category: \\n\")\n",
    "job_cats_and_desc_df"
   ]
  },
  {
   "cell_type": "code",
   "execution_count": 117,
   "id": "23ed18ab-5188-40e8-90c3-1071ca54dca0",
   "metadata": {
    "tags": []
   },
   "outputs": [],
   "source": [
    "job_cats_full_df = data[['category']]\n",
    "job_cats_full_df['tokenized_cat'] = job_cats_full_df.category.apply(lambda x: nltk.RegexpTokenizer(r'\\w+').tokenize(x))\n",
    "job_cats_full_df['vocab_size'] = job_cats_full_df.tokenized_cat.apply(lambda x: len(x))"
   ]
  },
  {
   "cell_type": "code",
   "execution_count": 118,
   "id": "b5907d37-3db5-4182-9849-996788d78dcf",
   "metadata": {},
   "outputs": [
    {
     "data": {
      "text/html": [
       "<div>\n",
       "<style scoped>\n",
       "    .dataframe tbody tr th:only-of-type {\n",
       "        vertical-align: middle;\n",
       "    }\n",
       "\n",
       "    .dataframe tbody tr th {\n",
       "        vertical-align: top;\n",
       "    }\n",
       "\n",
       "    .dataframe thead th {\n",
       "        text-align: right;\n",
       "    }\n",
       "</style>\n",
       "<table border=\"1\" class=\"dataframe\">\n",
       "  <thead>\n",
       "    <tr style=\"text-align: right;\">\n",
       "      <th></th>\n",
       "      <th>category</th>\n",
       "      <th>tokenized_cat</th>\n",
       "      <th>vocab_size</th>\n",
       "    </tr>\n",
       "  </thead>\n",
       "  <tbody>\n",
       "    <tr>\n",
       "      <th>0</th>\n",
       "      <td>Retail &amp; Consumer Products</td>\n",
       "      <td>[Retail, Consumer, Products]</td>\n",
       "      <td>3</td>\n",
       "    </tr>\n",
       "    <tr>\n",
       "      <th>1</th>\n",
       "      <td>Government &amp; Defence</td>\n",
       "      <td>[Government, Defence]</td>\n",
       "      <td>2</td>\n",
       "    </tr>\n",
       "    <tr>\n",
       "      <th>2</th>\n",
       "      <td>Trades &amp; Services</td>\n",
       "      <td>[Trades, Services]</td>\n",
       "      <td>2</td>\n",
       "    </tr>\n",
       "    <tr>\n",
       "      <th>3</th>\n",
       "      <td>Trades &amp; Services</td>\n",
       "      <td>[Trades, Services]</td>\n",
       "      <td>2</td>\n",
       "    </tr>\n",
       "    <tr>\n",
       "      <th>4</th>\n",
       "      <td>Trades &amp; Services</td>\n",
       "      <td>[Trades, Services]</td>\n",
       "      <td>2</td>\n",
       "    </tr>\n",
       "    <tr>\n",
       "      <th>...</th>\n",
       "      <td>...</td>\n",
       "      <td>...</td>\n",
       "      <td>...</td>\n",
       "    </tr>\n",
       "    <tr>\n",
       "      <th>29995</th>\n",
       "      <td>Hospitality &amp; Tourism</td>\n",
       "      <td>[Hospitality, Tourism]</td>\n",
       "      <td>2</td>\n",
       "    </tr>\n",
       "    <tr>\n",
       "      <th>29996</th>\n",
       "      <td>CEO &amp; General Management</td>\n",
       "      <td>[CEO, General, Management]</td>\n",
       "      <td>3</td>\n",
       "    </tr>\n",
       "    <tr>\n",
       "      <th>29997</th>\n",
       "      <td>Accounting</td>\n",
       "      <td>[Accounting]</td>\n",
       "      <td>1</td>\n",
       "    </tr>\n",
       "    <tr>\n",
       "      <th>29998</th>\n",
       "      <td>Government &amp; Defence</td>\n",
       "      <td>[Government, Defence]</td>\n",
       "      <td>2</td>\n",
       "    </tr>\n",
       "    <tr>\n",
       "      <th>29999</th>\n",
       "      <td>Government &amp; Defence</td>\n",
       "      <td>[Government, Defence]</td>\n",
       "      <td>2</td>\n",
       "    </tr>\n",
       "  </tbody>\n",
       "</table>\n",
       "<p>30000 rows × 3 columns</p>\n",
       "</div>"
      ],
      "text/plain": [
       "                         category                 tokenized_cat  vocab_size\n",
       "0      Retail & Consumer Products  [Retail, Consumer, Products]           3\n",
       "1            Government & Defence         [Government, Defence]           2\n",
       "2               Trades & Services            [Trades, Services]           2\n",
       "3               Trades & Services            [Trades, Services]           2\n",
       "4               Trades & Services            [Trades, Services]           2\n",
       "...                           ...                           ...         ...\n",
       "29995       Hospitality & Tourism        [Hospitality, Tourism]           2\n",
       "29996    CEO & General Management    [CEO, General, Management]           3\n",
       "29997                  Accounting                  [Accounting]           1\n",
       "29998        Government & Defence         [Government, Defence]           2\n",
       "29999        Government & Defence         [Government, Defence]           2\n",
       "\n",
       "[30000 rows x 3 columns]"
      ]
     },
     "execution_count": 118,
     "metadata": {},
     "output_type": "execute_result"
    }
   ],
   "source": [
    "job_cats_full_df"
   ]
  },
  {
   "cell_type": "code",
   "execution_count": 119,
   "id": "5a1ce78b-71fa-45cb-bbdd-b614cc431a1a",
   "metadata": {},
   "outputs": [],
   "source": [
    "mylist = np.concatenate(job_cats_full_df.tokenized_cat)"
   ]
  },
  {
   "cell_type": "code",
   "execution_count": 120,
   "id": "279129f1-5b3c-4132-9d49-149cc77a22a7",
   "metadata": {},
   "outputs": [
    {
     "name": "stdout",
     "output_type": "stream",
     "text": [
      "<FreqDist with 65 samples and 67503 outcomes>\n"
     ]
    }
   ],
   "source": [
    "fdist = nltk.FreqDist(mylist)\n",
    "print(fdist)"
   ]
  },
  {
   "cell_type": "code",
   "execution_count": 121,
   "id": "8dc21e4d-166a-4f3d-be76-90c772afdc6d",
   "metadata": {},
   "outputs": [
    {
     "data": {
      "image/png": "[encoded data removed]",
      "text/plain": [
       "<Figure size 1080x432 with 1 Axes>"
      ]
     },
     "metadata": {
      "needs_background": "light"
     },
     "output_type": "display_data"
    },
    {
     "data": {
      "text/plain": [
       "<AxesSubplot:title={'center':'Word frequency in all advertised job categories'}, xlabel='Samples', ylabel='Counts'>"
      ]
     },
     "execution_count": 121,
     "metadata": {},
     "output_type": "execute_result"
    }
   ],
   "source": [
    "plt.figure(figsize=(15,6))\n",
    "fdist.plot(title=\"Word frequency in all advertised job categories\")"
   ]
  },
  {
   "cell_type": "markdown",
   "id": "184f39c7-613b-4abb-824d-0b05b5b25fb7",
   "metadata": {
    "tags": []
   },
   "source": [
    "# 2.0 Data Preprocessing"
   ]
  },
  {
   "cell_type": "markdown",
   "id": "c0406737-2e75-4c3b-991a-d1e15be2b0fb",
   "metadata": {
    "tags": []
   },
   "source": [
    "## 2.1 Tokenize job descriptions"
   ]
  },
  {
   "cell_type": "code",
   "execution_count": 122,
   "id": "56c4b28e-1a02-4419-aa6a-be6618418b8d",
   "metadata": {
    "tags": []
   },
   "outputs": [
    {
     "data": {
      "text/html": [
       "<div>\n",
       "<style scoped>\n",
       "    .dataframe tbody tr th:only-of-type {\n",
       "        vertical-align: middle;\n",
       "    }\n",
       "\n",
       "    .dataframe tbody tr th {\n",
       "        vertical-align: top;\n",
       "    }\n",
       "\n",
       "    .dataframe thead th {\n",
       "        text-align: right;\n",
       "    }\n",
       "</style>\n",
       "<table border=\"1\" class=\"dataframe\">\n",
       "  <thead>\n",
       "    <tr style=\"text-align: right;\">\n",
       "      <th></th>\n",
       "      <th>category</th>\n",
       "      <th>job_description</th>\n",
       "    </tr>\n",
       "  </thead>\n",
       "  <tbody>\n",
       "    <tr>\n",
       "      <th>0</th>\n",
       "      <td>Retail &amp; Consumer Products</td>\n",
       "      <td>Have you had 10 years experience in fresh pro...</td>\n",
       "    </tr>\n",
       "    <tr>\n",
       "      <th>1</th>\n",
       "      <td>Government &amp; Defence</td>\n",
       "      <td>The Opportunity: The Client Solution Analyst ...</td>\n",
       "    </tr>\n",
       "    <tr>\n",
       "      <th>2</th>\n",
       "      <td>Trades &amp; Services</td>\n",
       "      <td>An innovative business development role for a...</td>\n",
       "    </tr>\n",
       "    <tr>\n",
       "      <th>3</th>\n",
       "      <td>Trades &amp; Services</td>\n",
       "      <td>About the role: We are seeking an Automotive W...</td>\n",
       "    </tr>\n",
       "    <tr>\n",
       "      <th>4</th>\n",
       "      <td>Trades &amp; Services</td>\n",
       "      <td>Early starts and weekend shifts. No experien...</td>\n",
       "    </tr>\n",
       "    <tr>\n",
       "      <th>...</th>\n",
       "      <td>...</td>\n",
       "      <td>...</td>\n",
       "    </tr>\n",
       "    <tr>\n",
       "      <th>29995</th>\n",
       "      <td>Hospitality &amp; Tourism</td>\n",
       "      <td>Hotel snapshot The Radisson Blu Plaza Sydney ...</td>\n",
       "    </tr>\n",
       "    <tr>\n",
       "      <th>29996</th>\n",
       "      <td>CEO &amp; General Management</td>\n",
       "      <td>The Organisation Airservices is a government ...</td>\n",
       "    </tr>\n",
       "    <tr>\n",
       "      <th>29997</th>\n",
       "      <td>Accounting</td>\n",
       "      <td>ABOUT THE COMPANY AND ROLE Our client is one o...</td>\n",
       "    </tr>\n",
       "    <tr>\n",
       "      <th>29998</th>\n",
       "      <td>Government &amp; Defence</td>\n",
       "      <td>Long term contract for 12 months with possibl...</td>\n",
       "    </tr>\n",
       "    <tr>\n",
       "      <th>29999</th>\n",
       "      <td>Government &amp; Defence</td>\n",
       "      <td>Customer Service Representative - (West Wyalo...</td>\n",
       "    </tr>\n",
       "  </tbody>\n",
       "</table>\n",
       "<p>30000 rows × 2 columns</p>\n",
       "</div>"
      ],
      "text/plain": [
       "                         category  \\\n",
       "0      Retail & Consumer Products   \n",
       "1            Government & Defence   \n",
       "2               Trades & Services   \n",
       "3               Trades & Services   \n",
       "4               Trades & Services   \n",
       "...                           ...   \n",
       "29995       Hospitality & Tourism   \n",
       "29996    CEO & General Management   \n",
       "29997                  Accounting   \n",
       "29998        Government & Defence   \n",
       "29999        Government & Defence   \n",
       "\n",
       "                                         job_description  \n",
       "0       Have you had 10 years experience in fresh pro...  \n",
       "1       The Opportunity: The Client Solution Analyst ...  \n",
       "2       An innovative business development role for a...  \n",
       "3      About the role: We are seeking an Automotive W...  \n",
       "4        Early starts and weekend shifts. No experien...  \n",
       "...                                                  ...  \n",
       "29995   Hotel snapshot The Radisson Blu Plaza Sydney ...  \n",
       "29996   The Organisation Airservices is a government ...  \n",
       "29997  ABOUT THE COMPANY AND ROLE Our client is one o...  \n",
       "29998   Long term contract for 12 months with possibl...  \n",
       "29999   Customer Service Representative - (West Wyalo...  \n",
       "\n",
       "[30000 rows x 2 columns]"
      ]
     },
     "execution_count": 122,
     "metadata": {},
     "output_type": "execute_result"
    }
   ],
   "source": [
    "job_cat_desc_df = data[['category','job_description']]\n",
    "\n",
    "job_cat_desc_df['job_description'] = (job_cat_desc_df['job_description']\n",
    "                                      .str.replace('â€™', \"'\")\n",
    "                                      .str.replace('Â', '')\n",
    "                                      .str.replace(r'[^\\x00-\\x7F]', ' ')\n",
    ")\n",
    "\n",
    "job_cat_desc_df"
   ]
  },
  {
   "cell_type": "code",
   "execution_count": 123,
   "id": "2c1a24bc-f827-426f-b998-1df52cb06a0e",
   "metadata": {},
   "outputs": [],
   "source": [
    "nlp = spacy.load(\"en_core_web_lg\")\n",
    "lemmatizer = nlp.get_pipe(\"lemmatizer\")\n",
    "stemmer = PorterStemmer()"
   ]
  },
  {
   "cell_type": "code",
   "execution_count": 124,
   "id": "0712afe1-98d3-4ced-9f78-fb3bf8bbedf1",
   "metadata": {
    "tags": []
   },
   "outputs": [],
   "source": [
    "def preprocess_desc(category):\n",
    "    job_desc_list = job_cat_desc_df[job_cat_desc_df['category']==str(category)]['job_description'].astype('str').tolist()\n",
    "    doc_bin = DocBin(store_user_data=True)\n",
    "    \n",
    "    for doc in nlp.pipe(job_desc_list[:100]): # only retreiving first 100 rows for dev purpose\n",
    "        doc_bin.add(doc)\n",
    "    \n",
    "    return doc_bin"
   ]
  },
  {
   "cell_type": "markdown",
   "id": "22e9e92b-2933-4bb5-8c45-de20776ef877",
   "metadata": {
    "tags": []
   },
   "source": [
    "## 2.2 Stemming and Lemmatization"
   ]
  },
  {
   "cell_type": "code",
   "execution_count": 125,
   "id": "0f489b28-9259-468b-8e55-2093c416e9a8",
   "metadata": {
    "tags": []
   },
   "outputs": [],
   "source": [
    "def lemma_stem(doc):\n",
    "    lemm_stem_list = list()\n",
    "    for token in doc:\n",
    "        \n",
    "        if not token.is_alpha:\n",
    "            continue\n",
    "        \n",
    "        d = {\n",
    "            'original':token.text,\n",
    "            'lemmatized':token.lemma_,\n",
    "            'stemmed':stemmer.stem(token.text)\n",
    "        }\n",
    "        \n",
    "        lemm_stem_list.append(d)\n",
    "    \n",
    "    return pd.DataFrame(data=lemm_stem_list)"
   ]
  },
  {
   "cell_type": "code",
   "execution_count": 126,
   "id": "0684fa35-c353-4b93-9565-ba76bfc7bb35",
   "metadata": {},
   "outputs": [],
   "source": [
    "cat_docBin = preprocess_desc('Trades & Services')"
   ]
  },
  {
   "cell_type": "code",
   "execution_count": 127,
   "id": "0d2e191c-1183-4d02-ad1b-93cb179d465a",
   "metadata": {},
   "outputs": [],
   "source": [
    "desc_docs_list = list(cat_docBin.get_docs(nlp.vocab))"
   ]
  },
  {
   "cell_type": "code",
   "execution_count": 128,
   "id": "d82087b3-0f18-47ba-85bc-1f42be9f489b",
   "metadata": {},
   "outputs": [
    {
     "data": {
      "text/html": [
       "<div>\n",
       "<style scoped>\n",
       "    .dataframe tbody tr th:only-of-type {\n",
       "        vertical-align: middle;\n",
       "    }\n",
       "\n",
       "    .dataframe tbody tr th {\n",
       "        vertical-align: top;\n",
       "    }\n",
       "\n",
       "    .dataframe thead th {\n",
       "        text-align: right;\n",
       "    }\n",
       "</style>\n",
       "<table border=\"1\" class=\"dataframe\">\n",
       "  <thead>\n",
       "    <tr style=\"text-align: right;\">\n",
       "      <th></th>\n",
       "      <th>original</th>\n",
       "      <th>lemmatized</th>\n",
       "      <th>stemmed</th>\n",
       "    </tr>\n",
       "  </thead>\n",
       "  <tbody>\n",
       "    <tr>\n",
       "      <th>0</th>\n",
       "      <td>An</td>\n",
       "      <td>an</td>\n",
       "      <td>an</td>\n",
       "    </tr>\n",
       "    <tr>\n",
       "      <th>1</th>\n",
       "      <td>innovative</td>\n",
       "      <td>innovative</td>\n",
       "      <td>innov</td>\n",
       "    </tr>\n",
       "    <tr>\n",
       "      <th>2</th>\n",
       "      <td>business</td>\n",
       "      <td>business</td>\n",
       "      <td>busi</td>\n",
       "    </tr>\n",
       "    <tr>\n",
       "      <th>3</th>\n",
       "      <td>development</td>\n",
       "      <td>development</td>\n",
       "      <td>develop</td>\n",
       "    </tr>\n",
       "    <tr>\n",
       "      <th>4</th>\n",
       "      <td>role</td>\n",
       "      <td>role</td>\n",
       "      <td>role</td>\n",
       "    </tr>\n",
       "    <tr>\n",
       "      <th>...</th>\n",
       "      <td>...</td>\n",
       "      <td>...</td>\n",
       "      <td>...</td>\n",
       "    </tr>\n",
       "    <tr>\n",
       "      <th>417</th>\n",
       "      <td>today</td>\n",
       "      <td>today</td>\n",
       "      <td>today</td>\n",
       "    </tr>\n",
       "    <tr>\n",
       "      <th>418</th>\n",
       "      <td>No</td>\n",
       "      <td>no</td>\n",
       "      <td>no</td>\n",
       "    </tr>\n",
       "    <tr>\n",
       "      <th>419</th>\n",
       "      <td>Recruitment</td>\n",
       "      <td>Recruitment</td>\n",
       "      <td>recruit</td>\n",
       "    </tr>\n",
       "    <tr>\n",
       "      <th>420</th>\n",
       "      <td>Agencies</td>\n",
       "      <td>agency</td>\n",
       "      <td>agenc</td>\n",
       "    </tr>\n",
       "    <tr>\n",
       "      <th>421</th>\n",
       "      <td>please</td>\n",
       "      <td>please</td>\n",
       "      <td>pleas</td>\n",
       "    </tr>\n",
       "  </tbody>\n",
       "</table>\n",
       "<p>422 rows × 3 columns</p>\n",
       "</div>"
      ],
      "text/plain": [
       "        original   lemmatized  stemmed\n",
       "0             An           an       an\n",
       "1     innovative   innovative    innov\n",
       "2       business     business     busi\n",
       "3    development  development  develop\n",
       "4           role         role     role\n",
       "..           ...          ...      ...\n",
       "417        today        today    today\n",
       "418           No           no       no\n",
       "419  Recruitment  Recruitment  recruit\n",
       "420     Agencies       agency    agenc\n",
       "421       please       please    pleas\n",
       "\n",
       "[422 rows x 3 columns]"
      ]
     },
     "execution_count": 128,
     "metadata": {},
     "output_type": "execute_result"
    }
   ],
   "source": [
    "lemma_stem(desc_docs_list[0])"
   ]
  },
  {
   "cell_type": "markdown",
   "id": "75886d56-c992-4655-9d35-77c848582aa4",
   "metadata": {
    "tags": []
   },
   "source": [
    "## 2.3 Retokenize noun phrases"
   ]
  },
  {
   "cell_type": "code",
   "execution_count": 28,
   "id": "836e2e6a-0e42-4e72-8239-f203f1e464bf",
   "metadata": {
    "tags": []
   },
   "outputs": [],
   "source": [
    "# Retokenize to treat each noun_chunk as a single token,\n",
    "def retokenize_frequent_NPs(doc):\n",
    "    \n",
    "    with doc.retokenize() as retokenizer:\n",
    "        for chunk in doc.noun_chunks:\n",
    "            # print(chunk.text + ' ' + str(type(chunk)))\n",
    "            retokenizer.merge(chunk)\n",
    "            doc.retokenize().merge(chunk)"
   ]
  },
  {
   "cell_type": "markdown",
   "id": "b8d253f7-8f92-433a-a2df-3d9099b3160e",
   "metadata": {
    "jp-MarkdownHeadingCollapsed": true,
    "tags": []
   },
   "source": [
    "### I have a working retokenization function, but I chose not to use it as my pipeline does not require it here"
   ]
  },
  {
   "cell_type": "code",
   "execution_count": 29,
   "id": "6cfee67c-a66f-4f60-865f-11c53b395bf4",
   "metadata": {},
   "outputs": [],
   "source": [
    "# for doc in desc_docs_list:\n",
    "#     retokenize_frequent_NPs(doc)"
   ]
  },
  {
   "cell_type": "markdown",
   "id": "161c7d1a-a011-410e-8478-9b562c211a0c",
   "metadata": {
    "jp-MarkdownHeadingCollapsed": true,
    "tags": []
   },
   "source": [
    "## 2.3 TFIDF"
   ]
  },
  {
   "cell_type": "code",
   "execution_count": 145,
   "id": "798f3260-e4cd-4d0a-b828-42220abae87c",
   "metadata": {},
   "outputs": [],
   "source": [
    "import gensim\n",
    "import gensim.downloader as api\n",
    "from gensim.models import TfidfModel\n",
    "from gensim.corpora import Dictionary"
   ]
  },
  {
   "cell_type": "code",
   "execution_count": 146,
   "id": "11142a75-bed4-4c0d-9be2-8a083cfeff23",
   "metadata": {},
   "outputs": [],
   "source": [
    "def sent_to_words(sentences):\n",
    "    for sentence in sentences:\n",
    "        # deacc=True removes punctuations\n",
    "        yield(gensim.utils.simple_preprocess(str(sentence), deacc=True))"
   ]
  },
  {
   "cell_type": "code",
   "execution_count": 168,
   "id": "4e246ee9-f9ed-4175-866a-e38aea1e4602",
   "metadata": {},
   "outputs": [],
   "source": [
    "testText = job_cat_desc_df.job_description[:50] # only taking a small sample to show this is possible"
   ]
  },
  {
   "cell_type": "code",
   "execution_count": 172,
   "id": "ec760e9d-6580-4c66-954a-de2c3a6d475d",
   "metadata": {
    "tags": []
   },
   "outputs": [],
   "source": [
    "vocab = [dictionary[i] for i in range(len(dictionary))]"
   ]
  },
  {
   "cell_type": "code",
   "execution_count": 173,
   "id": "50c31514-078f-4ae0-9618-29a6adf3259a",
   "metadata": {
    "tags": []
   },
   "outputs": [],
   "source": [
    "index = list(range(len(BoW_corpus)))"
   ]
  },
  {
   "cell_type": "code",
   "execution_count": 170,
   "id": "f8a3e20a-12a9-4111-bda8-8b12d20112a9",
   "metadata": {
    "tags": []
   },
   "outputs": [],
   "source": [
    "doc_tokenized = list(sent_to_words(testText))\n",
    "dictionary = Dictionary()\n",
    "BoW_corpus = [dictionary.doc2bow(doc, allow_update=True) for doc in doc_tokenized]"
   ]
  },
  {
   "cell_type": "code",
   "execution_count": 171,
   "id": "975d7872-a920-4574-9704-99bc5b768512",
   "metadata": {
    "tags": []
   },
   "outputs": [
    {
     "name": "stderr",
     "output_type": "stream",
     "text": [
      "2022-04-28 16:38:57,982 - gensim.models.tfidfmodel - INFO - collecting document frequencies\n",
      "2022-04-28 16:38:57,983 - gensim.models.tfidfmodel - INFO - PROGRESS: processing document #0\n",
      "2022-04-28 16:38:57,992 - gensim.utils - INFO - TfidfModel lifecycle event {'msg': 'calculated IDF weights for 50 documents and 2823 features (8992 matrix non-zeros)', 'datetime': '2022-04-28T16:38:57.992055', 'gensim': '4.1.2', 'python': '3.8.12 (default, Oct 12 2021, 03:01:40) [MSC v.1916 64 bit (AMD64)]', 'platform': 'Windows-10-10.0.19044-SP0', 'event': 'initialize'}\n"
     ]
    }
   ],
   "source": [
    "tfidf = TfidfModel(BoW_corpus, smartirs='ntc')"
   ]
  },
  {
   "cell_type": "code",
   "execution_count": 174,
   "id": "2ba39404-3cf8-440d-a961-9e3f97b469d9",
   "metadata": {},
   "outputs": [],
   "source": [
    "df = pd.DataFrame(data=np.zeros((len(BoW_corpus), len(vocab)), dtype=np.float16),\n",
    "index=index,\n",
    "columns=vocab)"
   ]
  },
  {
   "cell_type": "code",
   "execution_count": 175,
   "id": "fc6f7b02-1d76-4efe-9fe3-82467c0b8c1e",
   "metadata": {},
   "outputs": [],
   "source": [
    "for idx in index:\n",
    "    for id, freq in tfidf[BoW_corpus[idx]]:\n",
    "        df[dictionary[id]][idx] = freq\n"
   ]
  },
  {
   "cell_type": "code",
   "execution_count": 176,
   "id": "8ecad584-f857-4f25-b659-5d0c1dde63af",
   "metadata": {
    "collapsed": true,
    "jupyter": {
     "outputs_hidden": true
    },
    "tags": []
   },
   "outputs": [
    {
     "data": {
      "text/plain": [
       "experience      0.011200\n",
       "to              0.011230\n",
       "for             0.013954\n",
       "and             0.014038\n",
       "on              0.018875\n",
       "of              0.019852\n",
       "is              0.023102\n",
       "with            0.025146\n",
       "in              0.026245\n",
       "work            0.026550\n",
       "will            0.028412\n",
       "the             0.029785\n",
       "flight          0.031708\n",
       "footprint       0.031708\n",
       "guaranteed      0.031708\n",
       "herts           0.031708\n",
       "hull            0.031708\n",
       "kangaroo        0.031708\n",
       "know            0.031708\n",
       "lincolnshire    0.031708\n",
       "listen          0.031708\n",
       "main            0.031708\n",
       "don             0.031708\n",
       "competitor      0.031708\n",
       "closing         0.031708\n",
       "dtype: float16"
      ]
     },
     "execution_count": 176,
     "metadata": {},
     "output_type": "execute_result"
    }
   ],
   "source": [
    "df.max().sort_values(ascending=True)[:25]"
   ]
  },
  {
   "cell_type": "code",
   "execution_count": 177,
   "id": "e558bd9d-972d-4d41-9b33-6db59dd3cc91",
   "metadata": {
    "tags": []
   },
   "outputs": [
    {
     "data": {
      "text/plain": [
       "[[('fresh', 0.407470703125), ('food', 0.333984375)],\n",
       " [('powerlink', 0.198974609375), ('requests', 0.198974609375)],\n",
       " [('laundry', 0.26123046875), ('adelaide', 0.1741943359375)],\n",
       " [('cvs', 0.230712890625), ('unsolicited', 0.230712890625)],\n",
       " [('teach', 0.3740234375), ('starts', 0.30810546875)],\n",
       " [('blood', 0.40234375), ('quality', 0.1661376953125)],\n",
       " [('yates', 0.361083984375), ('marketing', 0.2337646484375)],\n",
       " [('families', 0.4619140625), ('community', 0.298095703125)],\n",
       " [('health', 0.39794921875), ('austin', 0.37548828125)],\n",
       " [('administrator', 0.302978515625), ('system', 0.1905517578125)],\n",
       " [('spray', 0.5439453125), ('painter', 0.36279296875)],\n",
       " [('coordination', 0.21435546875), ('operations', 0.2060546875)],\n",
       " [('excavator', 0.326416015625), ('trucks', 0.326416015625)],\n",
       " [('drafting', 0.3623046875), ('oxworks', 0.35205078125)],\n",
       " [('project', 0.52587890625), ('projects', 0.231201171875)],\n",
       " [('security', 0.24853515625), ('installation', 0.2274169921875)],\n",
       " [('rcr', 0.2607421875), ('plant', 0.205322265625)],\n",
       " [('freedom', 0.32666015625), ('kitchens', 0.32666015625)],\n",
       " [('content', 0.38525390625), ('marketing', 0.34619140625)],\n",
       " [('idec', 0.5732421875), ('fabricators', 0.2293701171875)],\n",
       " [('backgrounds', 0.2235107421875), ('analytic', 0.189208984375)],\n",
       " [('sheetmetal', 0.35205078125), ('storeman', 0.2347412109375)],\n",
       " [('book', 0.333251953125), ('advice', 0.2744140625)],\n",
       " [('marketing', 0.56787109375), ('aac', 0.2392578125)],\n",
       " [('si', 0.419189453125), ('solution', 0.2281494140625)],\n",
       " [('pharmacy', 0.552734375), ('internship', 0.251220703125)],\n",
       " [('wollongong', 0.232666015625), ('programmed', 0.2259521484375)],\n",
       " [('front', 0.269287109375), ('loader', 0.269287109375)],\n",
       " [('media', 0.4931640625), ('social', 0.427490234375)],\n",
       " [('busy', 0.24169921875), ('duties', 0.2220458984375)],\n",
       " [('practitioners', 0.355224609375), ('alongside', 0.2301025390625)],\n",
       " [('workpac', 0.4169921875), ('fuel', 0.20849609375)],\n",
       " [('nsw', 0.3779296875), ('healthshare', 0.31982421875)],\n",
       " [('must', 0.25390625), ('oh', 0.24951171875)],\n",
       " [('microsoft', 0.273681640625), ('electronics', 0.216796875)],\n",
       " [('educators', 0.442138671875), ('children', 0.273193359375)],\n",
       " [('repair', 0.38916015625), ('ticket', 0.259521484375)],\n",
       " [('shift', 0.312255859375), ('casual', 0.285400390625)],\n",
       " [('bodies', 0.367919921875), ('body', 0.367919921875)],\n",
       " [('co', 0.25732421875), ('construction', 0.2022705078125)],\n",
       " [('javascript', 0.342529296875), ('helpdesk', 0.228271484375)],\n",
       " [('enable', 0.2156982421875), ('vessel', 0.2156982421875)],\n",
       " [('insolvency', 0.4853515625), ('ca', 0.291259765625)],\n",
       " [('human', 0.2176513671875), ('recruitment', 0.2061767578125)],\n",
       " [('uk', 0.5390625), ('teachers', 0.339599609375)],\n",
       " [('asset', 0.50732421875), ('procurement', 0.2305908203125)],\n",
       " [('holiday', 0.2205810546875), ('medicare', 0.2205810546875)],\n",
       " [('rentokil', 0.31494140625), ('washroom', 0.31494140625)],\n",
       " [('apprenticeship', 0.310791015625), ('cars', 0.282958984375)],\n",
       " [('perth', 0.2095947265625), ('branch', 0.19384765625)]]"
      ]
     },
     "execution_count": 177,
     "metadata": {},
     "output_type": "execute_result"
    }
   ],
   "source": [
    "sort_decr2_topn = lambda row, nlargest=2:sorted(pd.Series(zip(df.columns, row)), key=lambda cv: -cv[1]) [:nlargest]\n",
    "\n",
    "tmp = df.apply(sort_decr2_topn, axis=1)\n",
    "\n",
    "tmp.values.tolist()"
   ]
  },
  {
   "cell_type": "markdown",
   "id": "dda881b0-5cd9-4a20-bf34-6021114effbc",
   "metadata": {
    "tags": []
   },
   "source": [
    "## 2.4 Other Preprocessing Steps"
   ]
  },
  {
   "cell_type": "markdown",
   "id": "85f56aa0-1d1f-48b2-98a9-e36f66a77bef",
   "metadata": {
    "tags": []
   },
   "source": [
    "### After learning more about Spacy, I decided not to adopt the suggested implementation on the project breif. The reason being that I now I understand the power of spacy retaining the original tokenisation, and how any tokenisation processing done on docs is not reversible. I would rather keep the original doc tokenization and adapt my token matching to the required processing steps."
   ]
  },
  {
   "cell_type": "markdown",
   "id": "74536319-d6a6-4ee9-afa7-21e9730f777c",
   "metadata": {
    "tags": []
   },
   "source": [
    "# 3.0 Linguistic Patterns"
   ]
  },
  {
   "cell_type": "markdown",
   "id": "b848c414-116d-4af4-ba62-c8e50e9b72ac",
   "metadata": {
    "tags": []
   },
   "source": [
    "## 3.1 Years of experience"
   ]
  },
  {
   "cell_type": "code",
   "execution_count": 36,
   "id": "892914cc-e13f-4848-b941-0de59de63081",
   "metadata": {},
   "outputs": [],
   "source": [
    "def experience_matcher(doc):\n",
    "    \"\"\"\n",
    "    Returns the number of years of experience mentioned in the doc (if at all)\n",
    "    \n",
    "    \"\"\"\n",
    "    \n",
    "    ent_matcher = Matcher(nlp.vocab)\n",
    "    dep_matcher = DependencyMatcher(nlp.vocab)\n",
    "    \n",
    "    ent_matcher.add(\"years_exprience_num\", [experience_pattern1])\n",
    "    dep_matcher.add(\"inexperienced\", [experience_pattern2])\n",
    "    dep_matcher.add(\"no_experience\", [experience_pattern3])\n",
    "    \n",
    "    ent_result = ent_matcher(doc)\n",
    "    dep_result = dep_matcher(doc)\n",
    "    \n",
    "    if(ent_result): # if years of experience mentioned\n",
    "        for match_id, start, end in ent_result:\n",
    "            return int(doc[start:end]._.numerize())\n",
    "    elif(dep_result): # if inexperienced\n",
    "        return 0\n",
    "    else: # if no mention of experience\n",
    "        return None"
   ]
  },
  {
   "cell_type": "code",
   "execution_count": 37,
   "id": "dffd6c54-a646-496d-a689-92cfe2a36a5c",
   "metadata": {},
   "outputs": [],
   "source": [
    "experience_pattern1 = [\n",
    "    {\n",
    "        'ENT_TYPE': 'DATE', \n",
    "        'LIKE_NUM': True\n",
    "    }\n",
    "]"
   ]
  },
  {
   "cell_type": "code",
   "execution_count": 38,
   "id": "a694dd12-48ae-4244-bd95-16a1e727f1d8",
   "metadata": {},
   "outputs": [],
   "source": [
    "experience_pattern2 = [\n",
    "    {\n",
    "        'RIGHT_ID': 'anchor_experience', \n",
    "        'RIGHT_ATTRS': {'ORTH': 'experience'}\n",
    "    },\n",
    "    {\n",
    "        'LEFT_ID': 'anchor_experience',\n",
    "        'REL_OP': '>',\n",
    "        'RIGHT_ID': 'experience_dep',\n",
    "        'RIGHT_ATTRS': {'DEP': {'IN':['amod','nummod']}}\n",
    "    }\n",
    "]"
   ]
  },
  {
   "cell_type": "code",
   "execution_count": 39,
   "id": "d213124d-2bbb-4099-823a-5e5924d2fd54",
   "metadata": {},
   "outputs": [],
   "source": [
    "experience_pattern3 = [\n",
    "    {\n",
    "        'RIGHT_ID': 'anchor_experience', \n",
    "        'RIGHT_ATTRS': {'ORTH': 'experience'}\n",
    "    },\n",
    "    {\n",
    "        'LEFT_ID': 'anchor_experience',\n",
    "        'REL_OP': '<',\n",
    "        'RIGHT_ID': 'experience_dobj_of',\n",
    "        'RIGHT_ATTRS': {'ORTH': {'IN':['need', 'needing', 'require', 'requiring']}}\n",
    "    },\n",
    "    {\n",
    "        'LEFT_ID': 'experience_dobj_of',\n",
    "        'REL_OP': '>',\n",
    "        'RIGHT_ID': 'negation_dep',\n",
    "        'RIGHT_ATTRS': {'DEP': 'neg'}\n",
    "    }\n",
    "]"
   ]
  },
  {
   "cell_type": "code",
   "execution_count": 40,
   "id": "c0c9ff91-9614-460f-a0c8-808a6739cd24",
   "metadata": {},
   "outputs": [
    {
     "data": {
      "text/plain": [
       "8"
      ]
     },
     "execution_count": 40,
     "metadata": {},
     "output_type": "execute_result"
    }
   ],
   "source": [
    "# testing first pattern\n",
    "doc1 = nlp(\"Find me a job for Accountant in Sydney, I have 8 years of experience\")\n",
    "experience_matcher(doc1)"
   ]
  },
  {
   "cell_type": "code",
   "execution_count": 41,
   "id": "45d65d96-64f5-4e5b-b75d-bd46b0d63f34",
   "metadata": {},
   "outputs": [
    {
     "data": {
      "text/plain": [
       "0"
      ]
     },
     "execution_count": 41,
     "metadata": {},
     "output_type": "execute_result"
    }
   ],
   "source": [
    "# testing second pattern\n",
    "doc2 = nlp(\"Find me a job for Accountant in Sydney requiring zero experience.\")\n",
    "experience_matcher(doc2)"
   ]
  },
  {
   "cell_type": "code",
   "execution_count": 42,
   "id": "8a0c5523-f0f7-42a0-a0f7-112ac984ede3",
   "metadata": {},
   "outputs": [
    {
     "data": {
      "text/plain": [
       "0"
      ]
     },
     "execution_count": 42,
     "metadata": {},
     "output_type": "execute_result"
    }
   ],
   "source": [
    "# testing third pattern\n",
    "doc3 = nlp(\"Find me a job for Accountant in Sydney that does not require any experience.\")\n",
    "experience_matcher(doc3)"
   ]
  },
  {
   "cell_type": "code",
   "execution_count": 43,
   "id": "bdce66cf-4444-46f7-8e98-32d0cacc3079",
   "metadata": {},
   "outputs": [
    {
     "data": {
      "text/plain": [
       "NoneType"
      ]
     },
     "execution_count": 43,
     "metadata": {},
     "output_type": "execute_result"
    }
   ],
   "source": [
    "# testing no matching pattern\n",
    "doc4 = nlp(\"Find me a job for Accountant in Sydney.\")\n",
    "type(experience_matcher(doc4))"
   ]
  },
  {
   "cell_type": "markdown",
   "id": "72b9040a-5d51-4b73-848b-210ffc60fe9d",
   "metadata": {
    "tags": []
   },
   "source": [
    "## 3.2 Location"
   ]
  },
  {
   "cell_type": "code",
   "execution_count": 44,
   "id": "fcfb0003-57ca-4d6e-8a6d-b68997f35f92",
   "metadata": {},
   "outputs": [],
   "source": [
    "def ent_phrase_matcher(doc, ent_pattern, phrase_pattern):\n",
    "    \"\"\"\n",
    "    Returns a matched string in doc via entitity recognition or phrase matching (if at all)\n",
    "    \n",
    "    \"\"\"\n",
    "    \n",
    "    ent_matcher = Matcher(nlp.vocab)\n",
    "    phrase_matcher = PhraseMatcher(nlp.vocab, attr='LOWER')\n",
    "    \n",
    "    ent_matcher.add('pattern1', [ent_pattern])\n",
    "    phrase_matcher.add('pattern2', phrase_pattern)\n",
    "\n",
    "    \n",
    "    ent_result = ent_matcher(doc)\n",
    "    phrase_result = phrase_matcher(doc)\n",
    "    \n",
    "    # displacy.render(doc, style=\"ent\")\n",
    "    if(phrase_result):\n",
    "        for match_id, start, end in phrase_result:\n",
    "            # print(phrase_result)\n",
    "            return doc[start:end]\n",
    "    elif(ent_result):\n",
    "        # print(ent_result)\n",
    "        return doc[ent_result[0][1]:ent_result[-1][-1]]\n",
    "    \n",
    "    return None"
   ]
  },
  {
   "cell_type": "code",
   "execution_count": 45,
   "id": "82a93489-c895-4665-b512-4b762a6b54e5",
   "metadata": {},
   "outputs": [],
   "source": [
    "cities_from_data = [\n",
    "    loc.strip() for loc in \n",
    "    [\n",
    "        loc for loc in data.city.unique() for loc in re.split(',|&', loc)\n",
    "    ]\n",
    "]"
   ]
  },
  {
   "cell_type": "code",
   "execution_count": 46,
   "id": "c6c521b5-055b-4f61-80c6-59b3840a222c",
   "metadata": {},
   "outputs": [],
   "source": [
    "location_pattern1 = [{'ENT_TYPE': {'IN': ['LOC', 'GPE']}}]\n",
    "location_pattern2 = [nlp.make_doc(text) for text in cities_from_data]"
   ]
  },
  {
   "cell_type": "code",
   "execution_count": 47,
   "id": "d20727b1-4711-4f28-a6d2-0b01552e41ac",
   "metadata": {},
   "outputs": [
    {
     "data": {
      "text/html": [
       "<span class=\"tex2jax_ignore\"><div class=\"entities\" style=\"line-height: 2.5; direction: ltr\">Find me a job for Accountant in ACT, I have \n",
       "<mark class=\"entity\" style=\"background: #bfe1d9; padding: 0.45em 0.6em; margin: 0 0.25em; line-height: 1; border-radius: 0.35em;\">\n",
       "    eight years\n",
       "    <span style=\"font-size: 0.8em; font-weight: bold; line-height: 1; border-radius: 0.35em; vertical-align: middle; margin-left: 0.5rem\">DATE</span>\n",
       "</mark>\n",
       " of experience</div></span>"
      ],
      "text/plain": [
       "<IPython.core.display.HTML object>"
      ]
     },
     "metadata": {},
     "output_type": "display_data"
    },
    {
     "data": {
      "text/plain": [
       "ACT"
      ]
     },
     "execution_count": 47,
     "metadata": {},
     "output_type": "execute_result"
    }
   ],
   "source": [
    "# testing first pattern\n",
    "doc1 = nlp(\"Find me a job for Accountant in ACT, I have eight years of experience\")\n",
    "displacy.render(doc1, style=\"ent\")\n",
    "ent_phrase_matcher(doc1, location_pattern1, location_pattern2)"
   ]
  },
  {
   "cell_type": "code",
   "execution_count": 48,
   "id": "ab0534e8-deb4-4081-96e2-0359fd8e1207",
   "metadata": {},
   "outputs": [
    {
     "data": {
      "text/html": [
       "<span class=\"tex2jax_ignore\"><div class=\"entities\" style=\"line-height: 2.5; direction: ltr\">Find me a job for Accountant in \n",
       "<mark class=\"entity\" style=\"background: #feca74; padding: 0.45em 0.6em; margin: 0 0.25em; line-height: 1; border-radius: 0.35em;\">\n",
       "    Abu Dhabi\n",
       "    <span style=\"font-size: 0.8em; font-weight: bold; line-height: 1; border-radius: 0.35em; vertical-align: middle; margin-left: 0.5rem\">GPE</span>\n",
       "</mark>\n",
       ", I have \n",
       "<mark class=\"entity\" style=\"background: #bfe1d9; padding: 0.45em 0.6em; margin: 0 0.25em; line-height: 1; border-radius: 0.35em;\">\n",
       "    eight years\n",
       "    <span style=\"font-size: 0.8em; font-weight: bold; line-height: 1; border-radius: 0.35em; vertical-align: middle; margin-left: 0.5rem\">DATE</span>\n",
       "</mark>\n",
       " of experience</div></span>"
      ],
      "text/plain": [
       "<IPython.core.display.HTML object>"
      ]
     },
     "metadata": {},
     "output_type": "display_data"
    },
    {
     "data": {
      "text/plain": [
       "Abu Dhabi"
      ]
     },
     "execution_count": 48,
     "metadata": {},
     "output_type": "execute_result"
    }
   ],
   "source": [
    "# testing second pattern\n",
    "doc1 = nlp(\"Find me a job for Accountant in Abu Dhabi, I have eight years of experience\")\n",
    "displacy.render(doc1, style=\"ent\")\n",
    "ent_phrase_matcher(doc1, location_pattern1, location_pattern2)"
   ]
  },
  {
   "cell_type": "markdown",
   "id": "4e9ecd43-5bda-4d27-81d5-4b077843d416",
   "metadata": {
    "tags": []
   },
   "source": [
    "## 3.4 Company name"
   ]
  },
  {
   "cell_type": "code",
   "execution_count": 49,
   "id": "2797df9b-6343-4e55-b395-8500594491d3",
   "metadata": {},
   "outputs": [],
   "source": [
    "company_pattern1 = [{'ENT_TYPE': 'ORG'}]\n",
    "company_pattern2 = [nlp.make_doc(text) for text in data.company_name.unique()]"
   ]
  },
  {
   "cell_type": "code",
   "execution_count": 129,
   "id": "4b4c360d-af83-462d-b1cb-8827b47ec92b",
   "metadata": {},
   "outputs": [
    {
     "data": {
      "text/html": [
       "<span class=\"tex2jax_ignore\"><div class=\"entities\" style=\"line-height: 2.5; direction: ltr\">I have \n",
       "<mark class=\"entity\" style=\"background: #bfe1d9; padding: 0.45em 0.6em; margin: 0 0.25em; line-height: 1; border-radius: 0.35em;\">\n",
       "    8 years\n",
       "    <span style=\"font-size: 0.8em; font-weight: bold; line-height: 1; border-radius: 0.35em; vertical-align: middle; margin-left: 0.5rem\">DATE</span>\n",
       "</mark>\n",
       " of experience, find me an accounting job in \n",
       "<mark class=\"entity\" style=\"background: #7aecec; padding: 0.45em 0.6em; margin: 0 0.25em; line-height: 1; border-radius: 0.35em;\">\n",
       "    Microsoft\n",
       "    <span style=\"font-size: 0.8em; font-weight: bold; line-height: 1; border-radius: 0.35em; vertical-align: middle; margin-left: 0.5rem\">ORG</span>\n",
       "</mark>\n",
       " in \n",
       "<mark class=\"entity\" style=\"background: #feca74; padding: 0.45em 0.6em; margin: 0 0.25em; line-height: 1; border-radius: 0.35em;\">\n",
       "    Sydney\n",
       "    <span style=\"font-size: 0.8em; font-weight: bold; line-height: 1; border-radius: 0.35em; vertical-align: middle; margin-left: 0.5rem\">GPE</span>\n",
       "</mark>\n",
       ".</div></span>"
      ],
      "text/plain": [
       "<IPython.core.display.HTML object>"
      ]
     },
     "metadata": {},
     "output_type": "display_data"
    },
    {
     "data": {
      "text/plain": [
       "Microsoft"
      ]
     },
     "execution_count": 129,
     "metadata": {},
     "output_type": "execute_result"
    }
   ],
   "source": [
    "# testing first pattern\n",
    "doc1 = nlp(\"I have 8 years of experience, find me an accounting job in Microsoft in Sydney.\")\n",
    "displacy.render(doc1, style=\"ent\")\n",
    "ent_phrase_matcher(doc1, company_pattern1, company_pattern2)"
   ]
  },
  {
   "cell_type": "code",
   "execution_count": 130,
   "id": "b9032822-49ea-42fd-80e4-bdb962a765f8",
   "metadata": {},
   "outputs": [
    {
     "data": {
      "text/html": [
       "<span class=\"tex2jax_ignore\"><div class=\"entities\" style=\"line-height: 2.5; direction: ltr\">find me an accounting job in Sunfresh</div></span>"
      ],
      "text/plain": [
       "<IPython.core.display.HTML object>"
      ]
     },
     "metadata": {},
     "output_type": "display_data"
    },
    {
     "data": {
      "text/plain": [
       "Sunfresh"
      ]
     },
     "execution_count": 130,
     "metadata": {},
     "output_type": "execute_result"
    }
   ],
   "source": [
    "# testing second pattern\n",
    "doc1 = nlp(\"find me an accounting job in Sunfresh\")\n",
    "displacy.render(doc1, style=\"ent\")\n",
    "ent_phrase_matcher(doc1, company_pattern1, company_pattern2)"
   ]
  },
  {
   "cell_type": "markdown",
   "id": "aecb1c31-25ad-4da7-a5c1-6e6b3bc47409",
   "metadata": {
    "tags": []
   },
   "source": [
    "## 3.5 Contract hours (full-time, part-time, casual)"
   ]
  },
  {
   "cell_type": "code",
   "execution_count": 52,
   "id": "b597d16e-81dd-4598-a779-a55285ea21e2",
   "metadata": {},
   "outputs": [],
   "source": [
    "def contract_hours_matcher(doc):\n",
    "    expression = r\"(([Ff]ull|[Pp]art)[ -]?([Tt]ime))|([Cc]asual)|([Cc]ontract)\"\n",
    "    for match in re.finditer(expression, doc.text):\n",
    "        start, end = match.span()\n",
    "        return doc.char_span(start, end)"
   ]
  },
  {
   "cell_type": "code",
   "execution_count": 53,
   "id": "2753e87c-c280-43eb-a3e2-8b0a5bce4d58",
   "metadata": {},
   "outputs": [],
   "source": [
    "# testing no matching pattern\n",
    "doc1 = nlp(\"I want a job\")\n",
    "contract_hours_matcher(doc1)"
   ]
  },
  {
   "cell_type": "code",
   "execution_count": 54,
   "id": "deb1adc2-f60a-4fc8-8fbe-492a65724054",
   "metadata": {},
   "outputs": [
    {
     "data": {
      "text/plain": [
       "full-time"
      ]
     },
     "execution_count": 54,
     "metadata": {},
     "output_type": "execute_result"
    }
   ],
   "source": [
    "# testing regex pattern\n",
    "doc1 = nlp(\"I want a full-time job\")\n",
    "contract_hours_matcher(doc1)"
   ]
  },
  {
   "cell_type": "code",
   "execution_count": 55,
   "id": "f4e44cfc-c337-4ace-8881-d365fcb63bf7",
   "metadata": {},
   "outputs": [
    {
     "data": {
      "text/plain": [
       "part time"
      ]
     },
     "execution_count": 55,
     "metadata": {},
     "output_type": "execute_result"
    }
   ],
   "source": [
    "# testing regex pattern\n",
    "doc1 = nlp(\"I want a part time job\")\n",
    "contract_hours_matcher(doc1)"
   ]
  },
  {
   "cell_type": "code",
   "execution_count": 56,
   "id": "94e0a0ba-657f-4a3c-82d0-09b26c99d4a6",
   "metadata": {},
   "outputs": [
    {
     "data": {
      "text/plain": [
       "casual"
      ]
     },
     "execution_count": 56,
     "metadata": {},
     "output_type": "execute_result"
    }
   ],
   "source": [
    "# testing regex pattern\n",
    "doc1 = nlp(\"I want a casual job\")\n",
    "contract_hours_matcher(doc1)"
   ]
  },
  {
   "cell_type": "markdown",
   "id": "01477d71-5e61-45ff-a196-7558fb1c8742",
   "metadata": {
    "tags": []
   },
   "source": [
    "## 3.5 Job type"
   ]
  },
  {
   "cell_type": "code",
   "execution_count": 57,
   "id": "9fbef894-79a2-483f-9adb-0f34de1e1c30",
   "metadata": {},
   "outputs": [],
   "source": [
    "job_type_pattern1 = [\n",
    "    {\n",
    "        'RIGHT_ID': 'anchor_jobs', \n",
    "        'RIGHT_ATTRS': {'ORTH': {'IN':['jobs','job']}}\n",
    "    },\n",
    "    {\n",
    "        'LEFT_ID': 'anchor_jobs',\n",
    "        'REL_OP': '>',\n",
    "        'RIGHT_ID': 'modifier_of_jobs',\n",
    "        'RIGHT_ATTRS': {\n",
    "            'ENT_TYPE': {'NOT_IN': ['LOC', 'GPE', 'ORG']},\n",
    "            'DEP': {'IN': ['compound', 'amod']},\n",
    "        }\n",
    "    }\n",
    "]\n",
    "\n",
    "job_type_pattern2 = [\n",
    "    {\n",
    "        'RIGHT_ID': 'anchor_jobs', \n",
    "        'RIGHT_ATTRS': {'ORTH': {'IN':['jobs','job']}}\n",
    "    },\n",
    "    {\n",
    "        'LEFT_ID': 'anchor_jobs',\n",
    "        'REL_OP': '>',\n",
    "        'RIGHT_ID': 'prep_of_jobs',\n",
    "        'RIGHT_ATTRS': {'DEP': 'prep'}\n",
    "    },\n",
    "    {\n",
    "        'LEFT_ID': 'prep_of_jobs',\n",
    "        'REL_OP': '>',\n",
    "        'RIGHT_ID': 'pobj_of_jobs',\n",
    "        'RIGHT_ATTRS': {'ENT_TYPE': {'NOT_IN': ['LOC', 'GPE', 'ORG']},\n",
    "                        'DEP': 'pobj', \n",
    "                        'ORTH': {'NOT_IN': [text for text in cities_from_data]}\n",
    "                       }\n",
    "    }\n",
    "]\n"
   ]
  },
  {
   "cell_type": "code",
   "execution_count": 131,
   "id": "111a0893-8169-4d0f-9e83-2ebdfa428716",
   "metadata": {},
   "outputs": [],
   "source": [
    "def job_type_matcher(doc):\n",
    "    \n",
    "    dep_matcher = DependencyMatcher(nlp.vocab)\n",
    "    dep_matcher.add(\"job_type\", [job_type_pattern1, job_type_pattern2])\n",
    "    \n",
    "    dep_result = dep_matcher(doc)\n",
    "        \n",
    "    if(dep_result):\n",
    "        for result in dep_result:\n",
    "            match_id, token_ids = result\n",
    "            token = doc[token_ids[-1]]\n",
    "            contract_hours_token = contract_hours_matcher(doc)\n",
    "            if(contract_hours_token and token.text in contract_hours_token.text):\n",
    "                continue\n",
    "            \n",
    "            num_compounds = 0\n",
    "            stack = [child for child in token.lefts]\n",
    "            while stack:\n",
    "                child = stack.pop()\n",
    "                if child.dep_ == 'compound':\n",
    "                    num_compounds+=1\n",
    "                    next_child = [c for c in child.lefts]\n",
    "                    if next_child:\n",
    "                        stack.append(next_child[0])\n",
    "            return doc[token.i-num_compounds:token.i+1]\n",
    "    else:\n",
    "        return None"
   ]
  },
  {
   "cell_type": "code",
   "execution_count": 139,
   "id": "cde1b52d-fd1d-420b-8e4e-8810106eb72e",
   "metadata": {},
   "outputs": [
    {
     "data": {
      "text/plain": [
       "accounting"
      ]
     },
     "execution_count": 139,
     "metadata": {},
     "output_type": "execute_result"
    }
   ],
   "source": [
    "# testing first pattern\n",
    "doc = nlp('Find me accounting jobs in the Sahara Desert.')\n",
    "job_type_matcher(doc)"
   ]
  },
  {
   "cell_type": "code",
   "execution_count": 138,
   "id": "bc5ab810-2cee-4cfd-9d34-9486510dc847",
   "metadata": {},
   "outputs": [
    {
     "data": {
      "text/plain": [
       "mural painting"
      ]
     },
     "execution_count": 138,
     "metadata": {},
     "output_type": "execute_result"
    }
   ],
   "source": [
    "# testing second pattern\n",
    "doc = nlp('Find me a full-time job in mural painting at Microsoft in Sydney.') \n",
    "job_type_matcher(doc)"
   ]
  },
  {
   "cell_type": "markdown",
   "id": "1d2d7eb0-0c63-49f4-bb84-71eae1d8d187",
   "metadata": {
    "tags": []
   },
   "source": [
    "# 4.0 Chatbot Implementation"
   ]
  },
  {
   "cell_type": "markdown",
   "id": "50d273ab-e0ac-437c-ad65-72d7b109c3a6",
   "metadata": {
    "tags": []
   },
   "source": [
    "## 4.1 Getting helper functions ready for chatbot"
   ]
  },
  {
   "cell_type": "code",
   "execution_count": 63,
   "id": "46caf3b1-e541-403b-b39c-d02758534d2b",
   "metadata": {},
   "outputs": [],
   "source": [
    "def parse_search(message):\n",
    "    \"\"\"\n",
    "    Returns a parsed dict of job related entities matched in the string message\n",
    "    \"\"\"\n",
    "    \n",
    "    doc = nlp(message)\n",
    "    \n",
    "    search_ents = { \n",
    "        'job_type': None, \n",
    "        'location': None, \n",
    "        'company_name': None, \n",
    "        'contract_hours': None, \n",
    "        'years_of_experience': None\n",
    "    }\n",
    "    \n",
    "    \n",
    "    search_ents['location'] = ent_phrase_matcher(doc, location_pattern1, location_pattern2)\n",
    "    search_ents['company_name'] = ent_phrase_matcher(doc, company_pattern1, company_pattern2)\n",
    "    search_ents['contract_hours'] = contract_hours_matcher(doc)\n",
    "    search_ents['years_of_experience'] = experience_matcher(doc)\n",
    "    if(job_type_matcher(doc)):\n",
    "        if search_ents['contract_hours'] and search_ents['contract_hours'].text != job_type_matcher(doc).text:\n",
    "            search_ents['job_type'] = job_type_matcher(doc)\n",
    "        else:\n",
    "            search_ents['job_type'] = job_type_matcher(doc)\n",
    "    \n",
    "    return search_ents"
   ]
  },
  {
   "cell_type": "code",
   "execution_count": 141,
   "id": "b800df25-cc83-48df-8ff9-8ce3199d082b",
   "metadata": {},
   "outputs": [
    {
     "data": {
      "text/plain": [
       "{'job_type': Client Solution Analyst,\n",
       " 'location': Egypt,\n",
       " 'company_name': Microsoft,\n",
       " 'contract_hours': full time,\n",
       " 'years_of_experience': 5}"
      ]
     },
     "execution_count": 141,
     "metadata": {},
     "output_type": "execute_result"
    }
   ],
   "source": [
    "message='Find me a full time job as a Client Solution Analyst in Microsoft in Egypt that asks for 5 years of experience.'\n",
    "parse_search(message)"
   ]
  },
  {
   "cell_type": "code",
   "execution_count": 65,
   "id": "fe4f74f8-1fd2-4365-907b-d70a27152c47",
   "metadata": {
    "tags": []
   },
   "outputs": [],
   "source": [
    "\"\"\"\n",
    "Some data cleaning steps to make life easier. Do not run, the cleaned dataframe is loaded from a pickle to save time\n",
    "\"\"\"\n",
    "\n",
    "# data.job_type = data.job_type.mask(data.job_type == 'Contract/Temp', 'contract')\n",
    "# data.job_type = data.job_type.mask(data.job_type == 'Casual/Vacation', 'casual')\n",
    "# data['years_of_experience'] = data.swifter.apply(lambda x : search_experience(x['job_description']), axis=1)"
   ]
  },
  {
   "cell_type": "code",
   "execution_count": 66,
   "id": "149c909a-e183-473b-b7a2-d9187ff68a54",
   "metadata": {},
   "outputs": [],
   "source": [
    "# import pickle\n",
    "# file_to_store = open(\"stored_object.pickle\", \"wb\")\n",
    "# pickle.dump(data, file_to_store)\n",
    "# file_to_store.close()"
   ]
  },
  {
   "cell_type": "code",
   "execution_count": 67,
   "id": "09aea2ba-3720-4ed4-8b3f-a59b9f78937d",
   "metadata": {},
   "outputs": [],
   "source": [
    "file_to_read = open(\"stored_object.pickle\", \"rb\")\n",
    "data = pickle.load(file_to_read)\n",
    "file_to_read.close()"
   ]
  },
  {
   "cell_type": "code",
   "execution_count": 68,
   "id": "869f74ec-3687-4976-86ca-ea983afba12e",
   "metadata": {},
   "outputs": [],
   "source": [
    "# change from float to Int64 (int dtype does not allow nulls)\n",
    "data['years_of_experience'] = data['years_of_experience'].astype('Int64')"
   ]
  },
  {
   "cell_type": "code",
   "execution_count": 71,
   "id": "00b04c6f-519e-4a3e-848b-d02322e5f5fc",
   "metadata": {},
   "outputs": [],
   "source": [
    "def search_experience(desc):\n",
    "    \"\"\"\n",
    "    Crawl through job description to find mentions of experience in a sentence.\n",
    "    Use spacy to match for years of experience required\n",
    "    \"\"\"\n",
    "    try:\n",
    "        if type(desc) != str:\n",
    "            return\n",
    "        doc = nlp(desc)\n",
    "        phrase_matcher = PhraseMatcher(nlp.vocab)\n",
    "        phrases = ['experience', 'experienced']\n",
    "        patterns = [nlp(text) for text in phrases]\n",
    "        phrase_matcher.add('exp', None, *patterns)\n",
    "        for sent in doc.sents:\n",
    "            for match_id, start, end in phrase_matcher(nlp(sent.text)):\n",
    "                # print(sent.text)\n",
    "                if experience_matcher(sent):\n",
    "                    return experience_matcher(sent)\n",
    "    except Exception:\n",
    "        pass"
   ]
  },
  {
   "cell_type": "code",
   "execution_count": 72,
   "id": "091926b8-7eaa-4763-9c43-f3840761bb21",
   "metadata": {
    "tags": []
   },
   "outputs": [],
   "source": [
    "def do_search(search_terms, data_df):\n",
    "    \"\"\"\n",
    "    Uses the parsed search terms to filter the job listings and returns the filtered dataframe\n",
    "    \"\"\"\n",
    "    \n",
    "    results_df = data_df.copy()\n",
    "    # print('FILTERS:')\n",
    "    if(search_terms['location']):\n",
    "        # print('location= ' + search_terms['location'].text)\n",
    "        docs = [nlp.make_doc(text) for text in results_df.city]\n",
    "        bools = [doc.similarity(search_terms['location']) >= 1.0 for doc in docs]\n",
    "        results_df = results_df[bools]\n",
    "        \n",
    "    if(search_terms['company_name']):\n",
    "        # print('company_name= ' + search_terms['company_name'].text)\n",
    "        docs = [nlp.make_doc(text) for text in results_df.company_name]\n",
    "        bools = [doc.similarity(search_terms['company_name']) >= 0.60 for doc in docs]\n",
    "        results_df = results_df[bools]\n",
    "        \n",
    "    if(search_terms['job_type']):\n",
    "        # print('job_type= ' + search_terms['job_type'].text)\n",
    "        job_type_docs = [nlp.make_doc(text) for text in results_df.job_type]\n",
    "        job_cat_docs = [nlp.make_doc(text) for text in results_df.category]\n",
    "        job_type_bools = [doc.similarity(search_terms['job_type']) >= 0.80 for doc in job_type_docs]\n",
    "        job_cat_bools = [doc.similarity(search_terms['job_type']) > 0.80 for doc in job_cat_docs]\n",
    "        \n",
    "        results_df = results_df[np.logical_or(job_type_bools,job_cat_bools)]\n",
    "        \n",
    "    if(search_terms['years_of_experience'] is not None):\n",
    "        # print('years_of_experience= ' + str(search_terms['years_of_experience']))\n",
    "        results_df = results_df[(results_df.years_of_experience.isnull())|(results_df.years_of_experience <= search_terms['years_of_experience'])]\n",
    "        \n",
    "    if(search_terms['contract_hours']):\n",
    "        # print('contract_hours= ' + search_terms['contract_hours'].text)\n",
    "        docs = [nlp.make_doc(text) for text in results_df.job_type]\n",
    "        bools = [doc.similarity(search_terms['contract_hours']) >= 0.85 for doc in docs]\n",
    "        results_df = results_df[bools]\n",
    "    \n",
    "    return results_df"
   ]
  },
  {
   "cell_type": "markdown",
   "id": "08a03d19-8c36-4b70-b0aa-51c825b96035",
   "metadata": {
    "tags": []
   },
   "source": [
    "## 4.2 Chatbot implementation"
   ]
  },
  {
   "cell_type": "code",
   "execution_count": 182,
   "id": "f38a5d8d-be79-4998-b1c7-3335f3791965",
   "metadata": {},
   "outputs": [
    {
     "name": "stdout",
     "output_type": "stream",
     "text": [
      "{'id': 5021183430, 'first_name': 'SeekDoge', 'is_bot': True, 'username': 'SeekDoge_bot', 'can_join_groups': True, 'can_read_all_group_messages': False, 'supports_inline_queries': False}\n"
     ]
    }
   ],
   "source": [
    "TOKEN = '5021183430:AAGSQCp66_NEHCC6qTG4yzuYyLu7L7xgfCw'\n",
    "bot = telegram.Bot(token=TOKEN)\n",
    "\n",
    "print(bot.get_me())"
   ]
  },
  {
   "cell_type": "code",
   "execution_count": null,
   "id": "12a69372-bd09-4e42-a83b-92763f7f7810",
   "metadata": {
    "tags": []
   },
   "outputs": [
    {
     "name": "stderr",
     "output_type": "stream",
     "text": [
      "2022-04-28 17:27:09,100 - apscheduler.scheduler - INFO - Scheduler started\n",
      "2022-04-28 17:33:41,157 - telegram.vendor.ptb_urllib3.urllib3.connectionpool - WARNING - Retrying (Retry(total=2, connect=None, read=None, redirect=None)) after connection broken by 'NewConnectionError('<telegram.vendor.ptb_urllib3.urllib3.connection.VerifiedHTTPSConnection object at 0x00000207A23BD340>: Failed to establish a new connection: [Errno 11001] getaddrinfo failed')': /bot5021183430:AAGSQCp66_NEHCC6qTG4yzuYyLu7L7xgfCw/getUpdates\n"
     ]
    }
   ],
   "source": [
    "def start(update: Update, context: CallbackContext) -> int:\n",
    "    \"\"\"Starts the conversation and asks the user about what kind of job they are looking for.\"\"\"\n",
    "\n",
    "    update.message.reply_text(\n",
    "        'Hi! My name is SeekDoge. I am a job search chatbot.\\n\\n'\n",
    "        'What do you want me to find?'\n",
    "    )\n",
    "\n",
    "def search(update: Update, context: CallbackContext) -> None:\n",
    "    \"\"\"Parse the search input from the user\"\"\"\n",
    "    user = update.message.from_user\n",
    "    message = update.message.text\n",
    "    search_terms = parse_search(message)\n",
    "    update.message.reply_text('Thank you, looking into it now...')\n",
    "    \n",
    "    message = ''\n",
    "    for key,val in search_terms.items():\n",
    "        if val is not None:\n",
    "            message = message + f\"{key}: {val}\\n\"\n",
    "    \n",
    "    update.message.reply_text('I am looking for jobs with these filters:\\n\\n%s' % message)\n",
    "    \n",
    "    for x in range(3):\n",
    "        time.sleep(0.5)\n",
    "        update.message.reply_text('...')\n",
    "        \n",
    "    results = do_search(search_terms, data) \n",
    "    \n",
    "    if(len(results) == 0):\n",
    "        update.message.reply_text('I did not find any matches. Please try another search.')\n",
    "        return None\n",
    "    \n",
    "    update.message.reply_text('Here are my top finds')\n",
    "    for index, row in results.iloc[0:5].iterrows():\n",
    "        message = (\n",
    "            f\"Job title: {row['job_title']}\\n\"\n",
    "            f\"Company: {row['company_name']}\\n\"\n",
    "            f\"Location: {row['city']}\\n\"\n",
    "            f\"For more information, visit: {row['url']}\")\n",
    "        update.message.reply_text(message)\n",
    "        time.sleep(0.5)\n",
    "    \n",
    "    update.message.reply_text('Hope that helps! Feel free to try another search.')\n",
    "    \n",
    "def main() -> None:\n",
    "    \"\"\"Run the bot.\"\"\"\n",
    "    # Create the Updater and pass it your bot's token.\n",
    "    updater = Updater(TOKEN)\n",
    "\n",
    "    # Get the dispatcher to register handlers\n",
    "    dispatcher = updater.dispatcher\n",
    "\n",
    "    dispatcher.add_handler(CommandHandler(\"start\", start))\n",
    "    dispatcher.add_handler(MessageHandler(Filters.text & ~Filters.command, search))\n",
    "    \n",
    "\n",
    "    # Start the Bot\n",
    "    updater.start_polling()\n",
    "\n",
    "    # Run the bot until you press Ctrl-C or the process receives SIGINT,\n",
    "    # SIGTERM or SIGABRT. This should be used most of the time, since\n",
    "    # start_polling() is non-blocking and will stop the bot gracefully.\n",
    "    updater.idle()\n",
    "\n",
    "\n",
    "if __name__ == '__main__':\n",
    "    main()"
   ]
  },
  {
   "cell_type": "code",
   "execution_count": null,
   "id": "d017af7c-aeba-44b2-9240-addfe348aaba",
   "metadata": {},
   "outputs": [],
   "source": []
  },
  {
   "cell_type": "markdown",
   "id": "068977d4-0013-4597-8850-61f3d8f99ca0",
   "metadata": {},
   "source": [
    "# 5.0 Bonus"
   ]
  },
  {
   "cell_type": "markdown",
   "id": "5c80f9bc-97ad-4a9b-b8b5-40a5f493d612",
   "metadata": {},
   "source": [
    "### Finite State Machine for handling multi-turn dialogue"
   ]
  },
  {
   "cell_type": "markdown",
   "id": "5181a436-352e-431a-8d66-9057e358db43",
   "metadata": {},
   "source": [
    "You can manage a multiturn dialouge system using finite state method. So bascially, when a conversional system has started, the user will parse a query through and in return, a response is selected based on the transition triggered by the query and by the explicit state which stores context information. Finite state machines can be used to keep track of the state of the conversation. In, varying needs ofthe customer and to give information to the customer whenneeded.\n",
    "\n",
    "\n",
    "To give a very simplistic overview how finite state works. The dialouge is structured and and follows a sequence of predetermined states. So every time a user says something, you will naviagate to the next step based on what he said. Based on the users input (e.g. text for job title), if the state matches the user input then it will go to the next state (i.e. contact hours)\n"
   ]
  },
  {
   "cell_type": "markdown",
   "id": "7ba0bb19-ca49-4211-8fb1-7467f4155147",
   "metadata": {},
   "source": [
    "A deterministic finite automation is desribed by 5 elements type \n",
    "![/tuples.png](tuples.png)\n",
    "\n",
    "We are going to look at the following example.\n",
    "\n",
    "![/example.png](example.png)\n",
    "\n",
    "\n",
    "- Q = {A, B, C, D} --> refers to all the states (shwn by the circles)\n",
    "- input = {0, 1} --> refers to the input values \n",
    "- F = {D} --> Final state (shown by the double circle\n",
    "- q = Q x input = Q (transition function) \n",
    "\n",
    "The arrow pointing (->) towards A is the starting/initial state. \n",
    "Edges: A -> B, B -> A, A -> c, c -> A, C - > D, D -> C, B -> D, D -> B <br> \n",
    "There edges are known as transition. Transition simply refer to the change from one state to the next. \n",
    "\n",
    "Suppose that the user parses 1 to state A, since the input is 1, State A goes to State B.<br>\n",
    "Suppose that the input for state B is 0, then the state would transition from State B to State D. <br>\n",
    "Suppose that the inpit for state C is 1, then the state would transition from State C to State D. <br>\n",
    "Suppose that the inpit for state C is 0, then the state would transition from State C to State A. <br>\n",
    "(similar for the rest of the cases)<br>\n",
    "\n",
    "\n",
    "Example:   \n",
    "\n",
    "The user wants to search for jobs, the bot is responsible for asking all the other relvant questions: job title, contact hours, location and experience, and the user gives a reply for each\n",
    "\n",
    "User Input&nbsp;&nbsp;&nbsp;&nbsp;&nbsp;&nbsp;&nbsp;&nbsp;&nbsp;&nbsp;&nbsp;&nbsp;&nbsp;&nbsp;&nbsp;title match. &nbsp;&nbsp;&nbsp;&nbsp;&nbsp;&nbsp;&nbsp;&nbsp;&nbsp;&nbsp;&nbsp;&nbsp;&nbsp;&nbsp;&nbsp;hours match &nbsp;&nbsp;&nbsp;&nbsp;&nbsp;&nbsp;&nbsp;&nbsp;&nbsp;&nbsp;&nbsp;&nbsp;&nbsp;&nbsp;&nbsp;   location match&nbsp;&nbsp;&nbsp;&nbsp;&nbsp;&nbsp;&nbsp;&nbsp;&nbsp;&nbsp;&nbsp;&nbsp;      experience match   \n",
    "-----------> job title -----------> contact hours ---------> location -----------> experience -----------> Confirm\n",
    "\n",
    "Dialouge System Between User and Bot:\n",
    "\n",
    "**Bot:** What kind of job are you looking for? <br>\n",
    "**User:** I am looking for an accounting job <br>\n",
    "**Bot:**  What is your commitment? <br>\n",
    "**User:** Part-time <br>\n",
    "**Bot:**  Where are you located? <br>\n",
    "**User:** I live in Perth <br>\n",
    "**Bot:**  How many years of experience do you have? <br>\n",
    "**User:** 10 years <br>\n",
    "\n",
    "We can utilise finite state machines for multi dialouge conversational system. So when the user inputs a query, the input will check if there are matches for the job title whilst in the title state, then the bot will go to the next state which is contact hours. If the user query matches the contact hours, the bot will move onto the next state and so on. How it works is that, the bot will start the reply with a **hello, how many I help you?**. the bot could potentially just suggest the destination where the user would like to travel.\n",
    "\n",
    "There are counter measures in place to ensure that if a valid input is not provided by the user, then the state will go to a dead state meaning the user query is rejected. These are done by filters and fallback commands.\n",
    "\n",
    "Mixed-initiative system ensures the functionality of the multi conversational bot. Mixed-initiative system refers to the fact that the dialouges can either be controlled by the user or the bot. Both the user and the bot have the power to initiate. In terms of the bot, it will ask questions to retrieve the necessary information and the user can answer them. Once the user query parses through the finite state machines, dependent of the states and transitions, the both will respond accordingly. In terms of a job search bot, the state will store the context of the conversation and the transition is the Intent. This is how you will ensure a dialouge manaegment system.\n"
   ]
  },
  {
   "cell_type": "code",
   "execution_count": null,
   "id": "3a398ea9-f691-4cd2-a4d4-a69cad264a9e",
   "metadata": {},
   "outputs": [],
   "source": []
  }
 ],
 "metadata": {
  "kernelspec": {
   "display_name": "Python 3 (ipykernel)",
   "language": "python",
   "name": "python3"
  },
  "language_info": {
   "codemirror_mode": {
    "name": "ipython",
    "version": 3
   },
   "file_extension": ".py",
   "mimetype": "text/x-python",
   "name": "python",
   "nbconvert_exporter": "python",
   "pygments_lexer": "ipython3",
   "version": "3.8.12"
  }
 },
 "nbformat": 4,
 "nbformat_minor": 5
}
